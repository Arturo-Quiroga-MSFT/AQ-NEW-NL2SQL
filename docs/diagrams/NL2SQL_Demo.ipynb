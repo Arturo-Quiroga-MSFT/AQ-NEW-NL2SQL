{
 "cells": [
  {
   "cell_type": "markdown",
   "id": "1043f9f5",
   "metadata": {},
   "source": [
    "## Azure SQL tips: USE and GO\n",
    "\n",
    "- GO isn’t T‑SQL; it’s a client tool batch separator used by SSMS/sqlcmd. Don’t include `GO` in SQL sent via drivers (pyodbc); split batches as separate commands.\n",
    "- USE to change database context isn’t appropriate in typical Azure SQL Database application queries. Connect directly to the desired database. For cross‑database access, consider Elastic query or Azure SQL Managed Instance.\n",
    "- In this notebook, we avoid multi‑batch scripts and run single executable statements; we also skip execution for empty or non‑SELECT outputs to prevent driver errors."
   ]
  },
  {
   "cell_type": "markdown",
   "id": "1fee43a8",
   "metadata": {},
   "source": [
    "# NL→SQL Demo Notebook (Azure OpenAI + Azure SQL)\n",
    "\n",
    "This notebook walks through the NL→Intent→SQL pipeline step by step (aligned with the project flowchart).\n",
    "Each code cell is paired with guidance to help you present or explore the pipeline (for TERADATA demo)."
   ]
  },
  {
   "cell_type": "markdown",
   "id": "d66284d6",
   "metadata": {},
   "source": [
    "## Demo settings (global)\n",
    "\n",
    "- Control printing and execution across the notebook from one place.\n",
    "- You can still override the query text in runner cells if needed.\n"
   ]
  },
  {
   "cell_type": "code",
   "execution_count": 1,
   "id": "a7db8c1c",
   "metadata": {},
   "outputs": [
    {
     "name": "stdout",
     "output_type": "stream",
     "text": [
      "Environment loaded. Ready to configure Azure OpenAI and Azure SQL.\n"
     ]
    }
   ],
   "source": [
    "# Imports and environment setup\n",
    "import os, re, sys, json, time\n",
    "from typing import List, Dict, Any\n",
    "from datetime import datetime\n",
    "from dotenv import load_dotenv\n",
    "\n",
    "# Third-party\n",
    "from langchain_openai import AzureChatOpenAI\n",
    "from langchain.prompts import ChatPromptTemplate\n",
    "\n",
    "# Load .env (expects Azure OpenAI + Azure SQL vars)\n",
    "load_dotenv()\n",
    "print('Environment loaded. Ready to configure Azure OpenAI and Azure SQL.')"
   ]
  },
  {
   "cell_type": "code",
   "execution_count": 2,
   "id": "fc67f6fc",
   "metadata": {},
   "outputs": [
    {
     "name": "stdout",
     "output_type": "stream",
     "text": [
      "Demo settings -> SHOW_INTENT: True | SHOW_REASONING: True | NO_EXEC: False | REFRESH_SCHEMA: False\n"
     ]
    }
   ],
   "source": [
    "# Demo settings (global)\n",
    "# These control printing and execution across the notebook.\n",
    "SHOW_INTENT = True\n",
    "SHOW_REASONING = True\n",
    "NO_EXEC = False\n",
    "REFRESH_SCHEMA = False\n",
    "\n",
    "# Default query used by runner cells unless overridden\n",
    "default_test_query = 'Weighted average interest rate by region'\n",
    "print('Demo settings -> SHOW_INTENT:', SHOW_INTENT, '| SHOW_REASONING:', SHOW_REASONING, '| NO_EXEC:', NO_EXEC, '| REFRESH_SCHEMA:', REFRESH_SCHEMA)"
   ]
  },
  {
   "cell_type": "code",
   "execution_count": 3,
   "id": "dd2dc965",
   "metadata": {},
   "outputs": [],
   "source": [
    "# Display helpers (ANSI colors for sectioned output)\n",
    "RESET = \"\\033[0m\"\n",
    "YELLOW = \"\\033[33m\"           # intent\n",
    "LIGHT_BLUE = \"\\033[96m\"       # reasoning (bright cyan)\n",
    "WHITE = \"\\033[97m\"            # raw sql\n",
    "GRAY = \"\\033[90m\"             # sanitized sql\n",
    "GOLD = \"\\033[38;5;220m\"      # results (approx gold)\n",
    "\n",
    "def colorize(text: str, color: str) -> str:\n",
    "    return f\"{color}{text}{RESET}\"\n",
    "\n",
    "def print_colored_block(label: str, content: str, color: str, sep: str = \"\\n\") -> None:\n",
    "    block = f\"{label}{sep}{content}\" if content is not None else label\n",
    "    print(colorize(block, color))"
   ]
  },
  {
   "cell_type": "markdown",
   "id": "44b587aa",
   "metadata": {},
   "source": [
    "## Azure OpenAI configuration & reasoning models note\n",
    "- o-series/GPT-5 reasoning models using Chat Completions do not support temperature/top_p, etc.\n",
    "- We detect such deployments and call the REST API directly, omitting unsupported params."
   ]
  },
  {
   "cell_type": "code",
   "execution_count": 4,
   "id": "2aaeeb2d",
   "metadata": {},
   "outputs": [
    {
     "name": "stdout",
     "output_type": "stream",
     "text": [
      "Using reasoning style: True | Deployment: gpt-5\n",
      "LLM configured (None for reasoning models): True\n"
     ]
    }
   ],
   "source": [
    "# Azure OpenAI configuration\n",
    "API_KEY = os.getenv('AZURE_OPENAI_API_KEY')\n",
    "ENDPOINT = os.getenv('AZURE_OPENAI_ENDPOINT')\n",
    "DEPLOYMENT_NAME = os.getenv('AZURE_OPENAI_DEPLOYMENT_NAME')\n",
    "API_VERSION = os.getenv('AZURE_OPENAI_API_VERSION', '2025-04-01-preview')\n",
    "\n",
    "def _is_reasoning_like_model(deployment_name: str | None) -> bool:\n",
    "    name = (deployment_name or '').lower()\n",
    "    return name.startswith('o') or name.startswith('gpt-5')\n",
    "\n",
    "_USING_REASONING_STYLE = _is_reasoning_like_model(DEPLOYMENT_NAME)\n",
    "print('Using reasoning style:', _USING_REASONING_STYLE, '| Deployment:', DEPLOYMENT_NAME)\n",
    "\n",
    "# Direct Chat Completions for reasoning models (no temperature/top_p)\n",
    "import requests\n",
    "\n",
    "def _azure_chat_completions(messages: List[Dict[str, Any]], max_completion_tokens: int | None = None) -> str:\n",
    "    url = f\"{ENDPOINT.rstrip('/')}/openai/deployments/{DEPLOYMENT_NAME}/chat/completions?api-version={API_VERSION}\"\n",
    "    payload: Dict[str, Any] = {'messages': messages}\n",
    "    if max_completion_tokens is not None:\n",
    "        payload['max_completion_tokens'] = max_completion_tokens\n",
    "    headers = {'api-key': API_KEY or '', 'Content-Type': 'application/json'}\n",
    "    resp = requests.post(url, headers=headers, json=payload, timeout=60)\n",
    "    resp.raise_for_status()\n",
    "    data = resp.json()\n",
    "    return data['choices'][0]['message']['content']\n",
    "\n",
    "# LangChain wrapper for non-reasoning models\n",
    "\n",
    "def _make_llm():\n",
    "    if _USING_REASONING_STYLE:\n",
    "        return None\n",
    "    return AzureChatOpenAI(\n",
    "        openai_api_key=API_KEY,\n",
    "        azure_endpoint=ENDPOINT,\n",
    "        deployment_name=DEPLOYMENT_NAME,\n",
    "        api_version=API_VERSION,\n",
    "        max_tokens=8192,\n",
    "    )\n",
    "\n",
    "llm = _make_llm()\n",
    "print('LLM configured (None for reasoning models):', llm is None)"
   ]
  },
  {
   "cell_type": "markdown",
   "id": "368a986a",
   "metadata": {},
   "source": [
    "## Prompts and intent extraction (diagram: INTENT & ENTITIES)\n",
    "We maintain shared prompt text and pick the correct call-path (direct REST vs LangChain)."
   ]
  },
  {
   "cell_type": "code",
   "execution_count": 5,
   "id": "c1d4d8a3",
   "metadata": {},
   "outputs": [],
   "source": [
    "# Prompt text\n",
    "INTENT_PROMPT_TEXT = (\n",
    "    \"\"\"\n",
    "    You are an expert in translating natural language to database queries. Extract the intent and entities from the following user input:\n",
    "    {input}\n",
    "    \"\"\"\n",
    ")\n",
    "SQL_PROMPT_TEXT = (\n",
    "    \"\"\"\n",
    "    You are an expert in SQL and Azure SQL Database. Given the following database schema and the intent/entities, generate a valid T-SQL query for querying the database.\n",
    "\n",
    "    IMPORTANT:\n",
    "    - Do NOT use USE statements (USE [database] is not supported in Azure SQL Database)\n",
    "    - Generate only the SELECT query without USE or GO statements\n",
    "    - Return only executable T-SQL code without markdown formatting\n",
    "    - The database connection is already established to the correct database\n",
    "\n",
    "    Schema:\n",
    "    {schema}\n",
    "    Intent and Entities:\n",
    "    {intent_entities}\n",
    "\n",
    "    Generate a T-SQL query that can be executed directly:\n",
    "    \"\"\"\n",
    ")\n",
    "REASONING_PROMPT_TEXT = (\n",
    "    \"\"\"\n",
    "    You are assisting with SQL generation. Before writing SQL, produce a short, high-level reasoning summary\n",
    "    for how you will construct the query, based on the schema and the intent/entities.\n",
    "\n",
    "    Rules:\n",
    "    - Do NOT include any SQL code.\n",
    "    - Keep it concise (<= 150 words) and actionable.\n",
    "    - Use simple bullets covering: Entities mapping, Tables/Joins, Aggregations (if any), Filters, Order/Limit, Assumptions.\n",
    "\n",
    "    Schema:\n",
    "    {schema}\n",
    "    Intent and Entities:\n",
    "    {intent_entities}\n",
    "\n",
    "    Provide the reasoning summary now:\n",
    "    \"\"\"\n",
    ")\n",
    "\n",
    "# Templates for LangChain path\n",
    "intent_prompt = ChatPromptTemplate.from_template(INTENT_PROMPT_TEXT)\n",
    "sql_prompt = ChatPromptTemplate.from_template(SQL_PROMPT_TEXT)\n",
    "reasoning_prompt = ChatPromptTemplate.from_template(REASONING_PROMPT_TEXT)\n",
    "\n",
    "def parse_nl_query(user_input: str) -> str:\n",
    "    if _USING_REASONING_STYLE:\n",
    "        prompt_text = INTENT_PROMPT_TEXT.format(input=user_input)\n",
    "        messages = [{ 'role': 'user', 'content': prompt_text.strip() }]\n",
    "        return _azure_chat_completions(messages, max_completion_tokens=8192)\n",
    "    chain = intent_prompt | llm\n",
    "    res = chain.invoke({'input': user_input})\n",
    "    return res.content"
   ]
  },
  {
   "cell_type": "markdown",
   "id": "e2700535",
   "metadata": {},
   "source": [
    "## Schema context & optional refresh (diagram: REFRESH SCHEMA branch)\n",
    "The schema context steers SQL generation to real tables/columns. Optionally refresh the cache."
   ]
  },
  {
   "cell_type": "code",
   "execution_count": 6,
   "id": "85e93827",
   "metadata": {},
   "outputs": [],
   "source": [
    "# Safe imports from this repository (resolve repo root even if running from docs/ or elsewhere)\n",
    "from pathlib import Path\n",
    "\n",
    "def _add_repo_root_to_sys_path(target_files=(\"schema_reader.py\",)) -> Path | None:\n",
    "    cwd = Path(os.getcwd()).resolve()\n",
    "    # Walk up up to 5 levels to find a dir containing any of target_files\n",
    "    for parent in [cwd] + list(cwd.parents)[:5]:\n",
    "        for fname in target_files:\n",
    "            if (parent / fname).exists():\n",
    "                parent_str = str(parent)\n",
    "                if parent_str not in sys.path:\n",
    "                    sys.path.insert(0, parent_str)\n",
    "                return parent\n",
    "    return None\n",
    "\n",
    "def _safe_import_schema_reader():\n",
    "    _add_repo_root_to_sys_path((\"schema_reader.py\", \"nl2sql_main.py\"))\n",
    "    try:\n",
    "        from schema_reader import get_sql_database_schema_context  # type: ignore\n",
    "        return get_sql_database_schema_context\n",
    "    except Exception as e:\n",
    "        raise ImportError('Unable to import get_sql_database_schema_context from schema_reader.') from e\n",
    "\n",
    "# Use global REFRESH_SCHEMA from the Demo settings cell\n",
    "if REFRESH_SCHEMA:\n",
    "    try:\n",
    "        _add_repo_root_to_sys_path((\"schema_reader.py\",))\n",
    "        import schema_reader  # type: ignore\n",
    "        cache_path = schema_reader.refresh_schema_cache()\n",
    "        print('[INFO] Schema cache refreshed:', cache_path)\n",
    "    except Exception as e:\n",
    "        print('[WARN] Failed to refresh schema cache:', e)"
   ]
  },
  {
   "cell_type": "markdown",
   "id": "eab31005",
   "metadata": {},
   "source": [
    "## Reasoning summary (optional)\n",
    "Ask the model for a short plan before generating SQL (skippable in faster runs)."
   ]
  },
  {
   "cell_type": "code",
   "execution_count": 7,
   "id": "0ed5474a",
   "metadata": {},
   "outputs": [
    {
     "name": "stdout",
     "output_type": "stream",
     "text": [
      "\u001b[33mINTENT & ENTITIES:\n",
      "{\n",
      "  \"intent\": \"aggregate_metric\",\n",
      "  \"metric\": \"interest_rate\",\n",
      "  \"aggregation\": \"weighted_average\",\n",
      "  \"group_by\": [\"region\"],\n",
      "  \"weight_field\": null,\n",
      "  \"filters\": [],\n",
      "  \"time_range\": null\n",
      "}\u001b[0m\n",
      "\u001b[96mSQL GENERATION REASONING:\n",
      "- Entities mapping: interest_rate -> vw_LoanPortfolio.InterestRatePct; region -> vw_LoanPortfolio.RegionName; weight -> vw_LoanPortfolio.PrincipalAmount.\n",
      "- Tables/Joins: Use dbo.vw_LoanPortfolio only (denormalized view covers needed fields); no joins required.\n",
      "- Aggregations: Compute weighted average per region as SUM(InterestRatePct * PrincipalAmount) / SUM(PrincipalAmount). Exclude rows where InterestRatePct or PrincipalAmount is NULL or PrincipalAmount <= 0.\n",
      "- Filters: None specified. Optionally restrict to Status = 'Active' if only active loans are desired.\n",
      "- Order/Limit: ORDER BY RegionName; no LIMIT.\n",
      "- Assumptions: InterestRatePct is expressed in percentage points (e.g., 4.5 = 4.5%). Weighting uses PrincipalAmount from the view (assumed original/outstanding as provided). Currency differences do not affect rate aggregation. RegionName may be NULL; treat as 'Unknown' if needed.\u001b[0m\n"
     ]
    }
   ],
   "source": [
    "def generate_reasoning(intent_entities: str) -> str:\n",
    "    get_schema_ctx = _safe_import_schema_reader()\n",
    "    schema = get_schema_ctx()\n",
    "    if _USING_REASONING_STYLE:\n",
    "        prompt_text = REASONING_PROMPT_TEXT.format(schema=schema, intent_entities=intent_entities)\n",
    "        messages = [{ 'role': 'user', 'content': prompt_text.strip() }]\n",
    "        return _azure_chat_completions(messages, max_completion_tokens=8192)\n",
    "    chain = reasoning_prompt | llm\n",
    "    res = chain.invoke({'schema': schema, 'intent_entities': intent_entities})\n",
    "    return res.content\n",
    "\n",
    "# Use default_test_query unless overridden above\n",
    "user_query = default_test_query\n",
    "intent_entities = parse_nl_query(user_query)\n",
    "if SHOW_INTENT:\n",
    "    print_colored_block('INTENT & ENTITIES:', intent_entities, YELLOW)\n",
    "\n",
    "if SHOW_REASONING:\n",
    "    try:\n",
    "        reasoning = generate_reasoning(intent_entities)\n",
    "        print_colored_block('SQL GENERATION REASONING:', reasoning if (reasoning and reasoning.strip()) else '[no reasoning returned]', LIGHT_BLUE)\n",
    "    except Exception as e:\n",
    "        print('[WARN] Reasoning step failed:', e)"
   ]
  },
  {
   "cell_type": "markdown",
   "id": "b91bfd98",
   "metadata": {},
   "source": [
    "## SQL generation (diagram: SQL GENERATION)\n",
    "Produce a T-SQL statement aligned with the extracted intent and schema context."
   ]
  },
  {
   "cell_type": "code",
   "execution_count": 8,
   "id": "ee6c18f8",
   "metadata": {},
   "outputs": [
    {
     "name": "stdout",
     "output_type": "stream",
     "text": [
      "\u001b[97mGENERATED SQL (RAW):\n",
      "SELECT\n",
      "    p.RegionName AS Region,\n",
      "    CASE\n",
      "        WHEN SUM(CASE WHEN p.PrincipalAmount > 0 AND p.InterestRatePct IS NOT NULL THEN CAST(p.PrincipalAmount AS decimal(38,6)) END) IS NULL\n",
      "             OR SUM(CASE WHEN p.PrincipalAmount > 0 AND p.InterestRatePct IS NOT NULL THEN CAST(p.PrincipalAmount AS decimal(38,6)) END) = 0\n",
      "        THEN NULL\n",
      "        ELSE\n",
      "            SUM(CASE WHEN p.PrincipalAmount > 0 AND p.InterestRatePct IS NOT NULL THEN CAST(p.InterestRatePct AS decimal(18,8)) * CAST(p.Princ...\u001b[0m\n"
     ]
    }
   ],
   "source": [
    "def generate_sql(intent_entities: str) -> str:\n",
    "    get_schema_ctx = _safe_import_schema_reader()\n",
    "    schema = get_schema_ctx()\n",
    "    if _USING_REASONING_STYLE:\n",
    "        prompt_text = SQL_PROMPT_TEXT.format(schema=schema, intent_entities=intent_entities)\n",
    "        messages = [{ 'role': 'user', 'content': prompt_text.strip() }]\n",
    "        return _azure_chat_completions(messages, max_completion_tokens=8192)\n",
    "    chain = sql_prompt | llm\n",
    "    result = chain.invoke({'schema': schema, 'intent_entities': intent_entities})\n",
    "    return result.content\n",
    "\n",
    "raw_sql = generate_sql(intent_entities)\n",
    "print_colored_block('GENERATED SQL (RAW):', (raw_sql[:500] + '...') if len(raw_sql)>500 else raw_sql, WHITE)"
   ]
  },
  {
   "cell_type": "markdown",
   "id": "a3506f4f",
   "metadata": {},
   "source": [
    "## SQL sanitization (diagram: SANITIZATION)\n",
    "Extract the SELECT code and normalize quotes for execution."
   ]
  },
  {
   "cell_type": "code",
   "execution_count": 9,
   "id": "2cff779a",
   "metadata": {},
   "outputs": [
    {
     "name": "stdout",
     "output_type": "stream",
     "text": [
      "\u001b[90mSANITIZED SQL (FOR EXECUTION):\n",
      "SELECT\n",
      "    p.RegionName AS Region,\n",
      "    CASE\n",
      "        WHEN SUM(CASE WHEN p.PrincipalAmount > 0 AND p.InterestRatePct IS NOT NULL THEN CAST(p.PrincipalAmount AS decimal(38,6)) END) IS NULL\n",
      "             OR SUM(CASE WHEN p.PrincipalAmount > 0 AND p.InterestRatePct IS NOT NULL THEN CAST(p.PrincipalAmount AS decimal(38,6)) END) = 0\n",
      "        THEN NULL\n",
      "        ELSE\n",
      "            SUM(CASE WHEN p.PrincipalAmount > 0 AND p.InterestRatePct IS NOT NULL THEN CAST(p.InterestRatePct AS decimal(18,8)) * CAST(p.PrincipalAmount AS decimal(38,6)) END)\n",
      "            /\n",
      "            SUM(CASE WHEN p.PrincipalAmount > 0 AND p.InterestRatePct IS NOT NULL THEN CAST(p.PrincipalAmount AS decimal(38,6)) END)\n",
      "    END AS WeightedAvgInterestRatePct\n",
      "FROM dbo.vw_LoanPortfolio p\n",
      "GROUP BY p.RegionName\n",
      "ORDER BY p.RegionName\u001b[0m\n"
     ]
    }
   ],
   "source": [
    "def extract_and_sanitize_sql(raw_sql: str) -> str:\n",
    "    sql_code = raw_sql\n",
    "    code_block = re.search(r\"```sql\\s*([\\s\\S]+?)```\", raw_sql, re.IGNORECASE)\n",
    "    if not code_block:\n",
    "        code_block = re.search(r\"```([\\s\\S]+?)```\", raw_sql)\n",
    "    if code_block:\n",
    "        sql_code = code_block.group(1).strip()\n",
    "    else:\n",
    "        select_match = re.search(r\"(SELECT[\\s\\S]+)\", raw_sql, re.IGNORECASE)\n",
    "        if select_match:\n",
    "            sql_code = select_match.group(1).strip()\n",
    "    return (\n",
    "        sql_code.replace('’', \"'\")\n",
    "                .replace('‘', \"'\")\n",
    "                .replace('“', '\"')\n",
    "                .replace('”', '\"')\n",
    "    )\n",
    "\n",
    "sql_to_run = extract_and_sanitize_sql(raw_sql)\n",
    "print_colored_block('SANITIZED SQL (FOR EXECUTION):', sql_to_run, GRAY)"
   ]
  },
  {
   "cell_type": "markdown",
   "id": "dae40479",
   "metadata": {},
   "source": [
    "## Execution (diagram: EXECUTION)\n",
    "Run the SQL against Azure SQL and format results (toggle NO_EXEC for dry runs)."
   ]
  },
  {
   "cell_type": "code",
   "execution_count": 10,
   "id": "1857bc55",
   "metadata": {},
   "outputs": [],
   "source": [
    "from pathlib import Path\n",
    "\n",
    "def _add_repo_root_to_sys_path_for_exec(target_files=(\"sql_executor.py\",)) -> Path | None:\n",
    "    cwd = Path(os.getcwd()).resolve()\n",
    "    for parent in [cwd] + list(cwd.parents)[:5]:\n",
    "        for fname in target_files:\n",
    "            if (parent / fname).exists():\n",
    "                parent_str = str(parent)\n",
    "                if parent_str not in sys.path:\n",
    "                    sys.path.insert(0, parent_str)\n",
    "                return parent\n",
    "    return None\n",
    "\n",
    "def _safe_import_sql_executor():\n",
    "    _add_repo_root_to_sys_path_for_exec((\"sql_executor.py\", \"nl2sql_main.py\"))\n",
    "    try:\n",
    "        from sql_executor import execute_sql_query  # type: ignore\n",
    "        return execute_sql_query\n",
    "    except Exception as e:\n",
    "        raise ImportError('Unable to import execute_sql_query from sql_executor.') from e\n",
    "\n",
    "def _format_table(rows):\n",
    "    if not rows:\n",
    "        return 'No results returned.\\n', []\n",
    "    columns = list(rows[0].keys())\n",
    "    col_widths = {c: max(len(c), max(len(str(r[c])) for r in rows)) for c in columns}\n",
    "    header = ' | '.join(c.ljust(col_widths[c]) for c in columns)\n",
    "    sep = '-+-'.join('-' * col_widths[c] for c in columns)\n",
    "    lines = [header, sep]\n",
    "    for r in rows:\n",
    "        lines.append(' | '.join(str(r[c]).ljust(col_widths[c]) for c in columns))\n",
    "    return (\n",
    "        '\\n'.join(lines) + '\\n',\n",
    "        [header, sep] + [' | '.join(str(r[c]).ljust(col_widths[c]) for c in columns) for r in rows]\n",
    "    )\n",
    "\n",
    "# Note: Execution is controlled by the global NO_EXEC flag in the Demo settings cell.\n",
    "# This cell only defines helpers; the end-to-end runner performs the actual execution."
   ]
  },
  {
   "cell_type": "markdown",
   "id": "c0e7e810",
   "metadata": {},
   "source": [
    "## End-to-end runner cell (adjust toggles)\n",
    "Change `test_query`, `REFRESH_SCHEMA`, `SHOW_REASONING`, and `NO_EXEC` above and re-run cells.\n",
    "This cell illustrates the typical order: Input → Intent → (Reasoning) → SQL → Sanitize → (Execute)."
   ]
  },
  {
   "cell_type": "code",
   "execution_count": 11,
   "id": "abe0a511",
   "metadata": {},
   "outputs": [
    {
     "name": "stdout",
     "output_type": "stream",
     "text": [
      "INTENT & ENTITIES:\n",
      " {\n",
      "  \"intent\": \"retrieve_top_n_per_group\",\n",
      "  \"description\": \"For each region, list the top 5 companies ordered by balance (descending).\",\n",
      "  \"select\": [\"company\", \"region\", \"balance\"],\n",
      "  \"entities\": {\n",
      "    \"dimensions\": [\"region\", \"company\"],\n",
      "    \"measure\": \"balance\",\n",
      "    \"top_n\": 5\n",
      "  },\n",
      "  \"group_by\": [\"region\"],\n",
      "  \"order_by\": [\n",
      "    { \"field\": \"balance\", \"direction\": \"desc\" }\n",
      "  ],\n",
      "  \"limit_per_group\": 5,\n",
      "  \"filters\": [],\n",
      "  \"notes\": \"Ties handling not specified; default to strict top 5 per region.\"\n",
      "} \n",
      "\n",
      "SQL GENERATION REASONING:\n",
      "- Entities mapping: region -> vw_LoanPortfolio.RegionName; company -> vw_LoanPortfolio.CompanyName; balance -> SUM(vw_LoanPortfolio.PrincipalAmount).\n",
      "- Tables/Joins: Use dbo.vw_LoanPortfolio only (denormalized portfolio view). No joins unless FX conversion is required.\n",
      "- Aggregations: Group by RegionName, CompanyName; compute SUM(PrincipalAmount) as company balance per region.\n",
      "- Filters: None specified; optionally filter to active loans (Status = 'Active') if only current exposure is desired.\n",
      "- Order/Limit: Use a window function (ROW_NUMBER) partitioned by RegionName ordered by balance DESC; keep row_number <= 5 for top 5 per region. Add deterministic tiebreaker (e.g., CompanyName ASC) for strict top 5.\n",
      "- Assumptions: PrincipalAmount serves as current balance/exposure; amounts are comparable without FX conversion. If multi-currency exposure needs normalization, convert to a base currency (e.g., USD) using the latest rate in ref.FXRateDaily before aggregation.\n",
      "\n",
      "GENERATED SQL (RAW):\n",
      " WITH company_region_balance AS (\n",
      "    SELECT\n",
      "        vp.RegionName AS Region,\n",
      "        vp.CompanyName AS Company,\n",
      "        SUM(vp.PrincipalAmount) AS Balance\n",
      "    FROM dbo.vw_LoanPortfolio vp\n",
      "    GROUP BY vp.RegionName, vp.CompanyName\n",
      "),\n",
      "ranked AS (\n",
      "    SELECT\n",
      "        Region,\n",
      "        Company,\n",
      "        Balance,\n",
      "        ROW_NUMBER() OVER (PARTITION BY Region ORDER BY Balance DESC, Company ASC) AS rn\n",
      "    FROM company_region_balance\n",
      ")\n",
      "SELECT\n",
      "    Region,\n",
      "    Company,\n",
      "    Balance\n",
      "FROM ranked\n",
      "WHERE rn <= 5\n",
      "ORDER BY Region, Balance DESC, Company \n",
      "\n",
      "SANITIZED SQL (FOR EXECUTION):\n",
      " SELECT\n",
      "        vp.RegionName AS Region,\n",
      "        vp.CompanyName AS Company,\n",
      "        SUM(vp.PrincipalAmount) AS Balance\n",
      "    FROM dbo.vw_LoanPortfolio vp\n",
      "    GROUP BY vp.RegionName, vp.CompanyName\n",
      "),\n",
      "ranked AS (\n",
      "    SELECT\n",
      "        Region,\n",
      "        Company,\n",
      "        Balance,\n",
      "        ROW_NUMBER() OVER (PARTITION BY Region ORDER BY Balance DESC, Company ASC) AS rn\n",
      "    FROM company_region_balance\n",
      ")\n",
      "SELECT\n",
      "    Region,\n",
      "    Company,\n",
      "    Balance\n",
      "FROM ranked\n",
      "WHERE rn <= 5\n",
      "ORDER BY Region, Balance DESC, Company \n",
      "\n",
      "[ERROR] Failed to execute SQL query: ('42000', \"[42000] [Microsoft][ODBC Driver 18 for SQL Server][SQL Server]Incorrect syntax near ')'. (102) (SQLExecDirectW)\")\n"
     ]
    }
   ],
   "source": [
    "# Example: run the entire flow again with a different query (hardened)\n",
    "test_query = 'For each region, list the top 5 companies by balance'\n",
    "intent_entities = parse_nl_query(test_query)\n",
    "print('INTENT & ENTITIES:\\n', intent_entities, '\\n')\n",
    "\n",
    "if SHOW_REASONING:\n",
    "    try:\n",
    "        r = generate_reasoning(intent_entities)\n",
    "        print('SQL GENERATION REASONING:\\n' + (r if (r and r.strip()) else '[no reasoning returned]') + '\\n')\n",
    "    except Exception as e:\n",
    "        print('[WARN] Reasoning step failed:', e)\n",
    "\n",
    "# SQL generation with guard\n",
    "try:\n",
    "    raw_sql = generate_sql(intent_entities)\n",
    "except Exception as e:\n",
    "    raw_sql = ''\n",
    "    print('[ERROR] SQL generation failed:', e)\n",
    "\n",
    "if not raw_sql or not raw_sql.strip():\n",
    "    print('GENERATED SQL (RAW): [empty]')\n",
    "    sql_to_run = ''\n",
    "    print('SANITIZED SQL (FOR EXECUTION): [empty]')\n",
    "else:\n",
    "    print('GENERATED SQL (RAW):\\n', raw_sql, '\\n')\n",
    "    sql_to_run = extract_and_sanitize_sql(raw_sql)\n",
    "    print('SANITIZED SQL (FOR EXECUTION):\\n', sql_to_run, '\\n')\n",
    "\n",
    "# Execution with safety checks\n",
    "if not NO_EXEC:\n",
    "    sql_final = sql_to_run if 'sql_to_run' in locals() else ''\n",
    "    if not sql_final or not sql_final.strip():\n",
    "        print('[INFO] Skipping execution: SQL is empty.')\n",
    "    elif not re.search(r'\\bselect\\b', sql_final, re.IGNORECASE):\n",
    "        print('[INFO] Skipping execution: No SELECT statement detected.')\n",
    "    else:\n",
    "        try:\n",
    "            execute_sql_query = _safe_import_sql_executor()\n",
    "            rows = execute_sql_query(sql_final)\n",
    "            table_text, _ = _format_table(rows)\n",
    "            print('SQL QUERY RESULTS (TABLE):\\n' + table_text)\n",
    "        except Exception as e:\n",
    "            print('[ERROR] Failed to execute SQL query:', e)\n",
    "else:\n",
    "    print('[INFO] Execution skipped (NO_EXEC=True)')"
   ]
  },
  {
   "cell_type": "markdown",
   "id": "a3a7cdba",
   "metadata": {},
   "source": [
    "# NL→SQL Demo Notebook (Azure OpenAI + Azure SQL)\n",
    "\n",
    "This notebook demonstrates the NL→Intent→SQL pipeline step by step, aligned with the project's flowchart.\n",
    "Each step includes explanation cells for demo purposes (e.g., for a TERADATA partner presentation).\n",
    "\n",
    "Prereqs: ensure you have a valid .env configured for Azure OpenAI and Azure SQL (see README)."
   ]
  },
  {
   "cell_type": "code",
   "execution_count": 12,
   "id": "63f9edf1",
   "metadata": {},
   "outputs": [
    {
     "name": "stdout",
     "output_type": "stream",
     "text": [
      "Environment loaded. Project root: /Users/arturoquiroga/GITHUB/AQ-NEW-NL2SQL/docs\n"
     ]
    }
   ],
   "source": [
    "# 1) Imports and environment bootstrap\n",
    "import os, re, sys\n",
    "from typing import List, Dict, Any\n",
    "from dotenv import load_dotenv\n",
    "load_dotenv()\n",
    "print('Environment loaded. Project root:', os.getcwd())"
   ]
  },
  {
   "cell_type": "markdown",
   "id": "c42b81a0",
   "metadata": {},
   "source": [
    "## Azure OpenAI setup and model routing\n",
    "We detect reasoning-style deployments (o-series/GPT-5) and use direct REST Chat Completions without unsupported params.\n",
    "For other models, we use the LangChain AzureChatOpenAI wrapper."
   ]
  },
  {
   "cell_type": "code",
   "execution_count": 13,
   "id": "9a9a82d2",
   "metadata": {},
   "outputs": [
    {
     "name": "stdout",
     "output_type": "stream",
     "text": [
      "Reasoning-style deployment: True | Deployment: gpt-5\n",
      "LangChain LLM initialized: False\n"
     ]
    }
   ],
   "source": [
    "# 2) Azure OpenAI configuration & helpers\n",
    "import json, requests\n",
    "from langchain_openai import AzureChatOpenAI\n",
    "from langchain.prompts import ChatPromptTemplate\n",
    "\n",
    "API_KEY = os.getenv('AZURE_OPENAI_API_KEY')\n",
    "ENDPOINT = os.getenv('AZURE_OPENAI_ENDPOINT')\n",
    "DEPLOYMENT_NAME = os.getenv('AZURE_OPENAI_DEPLOYMENT_NAME')\n",
    "API_VERSION = os.getenv('AZURE_OPENAI_API_VERSION', '2025-04-01-preview')\n",
    "\n",
    "def _is_reasoning_like_model(deployment_name: str | None) -> bool:\n",
    "    name = (deployment_name or '').lower()\n",
    "    return name.startswith('o') or name.startswith('gpt-5')\n",
    "\n",
    "USING_REASONING = _is_reasoning_like_model(DEPLOYMENT_NAME)\n",
    "print('Reasoning-style deployment:', USING_REASONING, '| Deployment:', DEPLOYMENT_NAME)\n",
    "\n",
    "def _azure_chat_completions(messages: List[dict], max_completion_tokens: int | None = None) -> str:\n",
    "    url = f\"{ENDPOINT.rstrip('/')}/openai/deployments/{DEPLOYMENT_NAME}/chat/completions?api-version={API_VERSION}\"\n",
    "    payload: Dict[str, Any] = {'messages': messages}\n",
    "    if max_completion_tokens is not None:\n",
    "        payload['max_completion_tokens'] = max_completion_tokens\n",
    "    headers = {'api-key': API_KEY or '', 'Content-Type': 'application/json'}\n",
    "    resp = requests.post(url, headers=headers, json=payload, timeout=60)\n",
    "    resp.raise_for_status()\n",
    "    data = resp.json()\n",
    "    return data['choices'][0]['message']['content']\n",
    "\n",
    "def _make_llm():\n",
    "    if USING_REASONING:\n",
    "        return None\n",
    "    return AzureChatOpenAI(\n",
    "        openai_api_key=API_KEY,\n",
    "        azure_endpoint=ENDPOINT,\n",
    "        deployment_name=DEPLOYMENT_NAME,\n",
    "        api_version=API_VERSION,\n",
    "        max_tokens=8192,\n",
    "    )\n",
    "\n",
    "llm = _make_llm()\n",
    "print('LangChain LLM initialized:', llm is not None)"
   ]
  },
  {
   "cell_type": "markdown",
   "id": "be4eef46",
   "metadata": {},
   "source": [
    "## Prompts & function: Parse NL into intent/entities\n",
    "We keep prompt strings inline to mirror the main script."
   ]
  },
  {
   "cell_type": "code",
   "execution_count": 14,
   "id": "1374ca91",
   "metadata": {},
   "outputs": [
    {
     "name": "stdout",
     "output_type": "stream",
     "text": [
      "parse_nl_query ready.\n"
     ]
    }
   ],
   "source": [
    "# 3) Prompts and parsing function\n",
    "INTENT_PROMPT_TEXT = (\n",
    "    \"You are an expert in translating natural language to database queries.\\n\"\n",
    "    \"Extract the intent and entities from the following user input:\\n\"\n",
    "    \"{input}\"\n",
    ")\n",
    "SQL_PROMPT_TEXT = (\n",
    "    \"You are an expert in SQL and Azure SQL Database. Given the following database schema and the intent/entities,\\n\"\n",
    "    \"generate a valid T-SQL query for querying the database.\\n\\n\"\n",
    "    \"IMPORTANT:\\n\"\n",
    "    \"- Do NOT use USE statements (USE [database] is not supported in Azure SQL Database)\\n\"\n",
    "    \"- Generate only the SELECT query without USE or GO statements\\n\"\n",
    "    \"- Return only executable T-SQL code without markdown formatting\\n\"\n",
    "    \"- The database connection is already established to the correct database\\n\\n\"\n",
    "    \"Schema:\\n\"\n",
    "    \"{schema}\\n\"\n",
    "    \"Intent and Entities:\\n\"\n",
    "    \"{intent_entities}\\n\\n\"\n",
    "    \"Generate a T-SQL query that can be executed directly:\\n\"\n",
    ")\n",
    "REASONING_PROMPT_TEXT = (\n",
    "    \"Before writing SQL, produce a short, high-level reasoning summary for how you will construct the query,\\n\"\n",
    "    \"based on the schema and the intent/entities.\\n\\n\"\n",
    "    \"Rules:\\n\"\n",
    "    \"- Do NOT include any SQL code.\\n\"\n",
    "    \"- Keep it concise (<= 150 words) and actionable.\\n\"\n",
    "    \"- Use simple bullets covering: Entities mapping, Tables/Joins, Aggregations (if any), Filters, Order/Limit, Assumptions.\\n\\n\"\n",
    "    \"Schema:\\n\"\n",
    "    \"{schema}\\n\"\n",
    "    \"Intent and Entities:\\n\"\n",
    "    \"{intent_entities}\\n\\n\"\n",
    "    \"Provide the reasoning summary now:\\n\"\n",
    ")\n",
    "\n",
    "intent_prompt = ChatPromptTemplate.from_template(INTENT_PROMPT_TEXT)\n",
    "sql_prompt = ChatPromptTemplate.from_template(SQL_PROMPT_TEXT)\n",
    "reasoning_prompt = ChatPromptTemplate.from_template(REASONING_PROMPT_TEXT)\n",
    "\n",
    "def parse_nl_query(user_input: str) -> str:\n",
    "    if USING_REASONING:\n",
    "        prompt_text = INTENT_PROMPT_TEXT.format(input=user_input)\n",
    "        messages = [{ 'role': 'user', 'content': prompt_text.strip() }]\n",
    "        return _azure_chat_completions(messages, max_completion_tokens=8192)\n",
    "    chain = intent_prompt | llm\n",
    "    res = chain.invoke({'input': user_input})\n",
    "    return res.content\n",
    "\n",
    "print('parse_nl_query ready.')"
   ]
  },
  {
   "cell_type": "markdown",
   "id": "a4d62ec2",
   "metadata": {},
   "source": [
    "## Schema context (with optional refresh)\n",
    "We use the local cache-backed context from `schema_reader.get_sql_database_schema_context`."
   ]
  },
  {
   "cell_type": "code",
   "execution_count": 15,
   "id": "bb3c29e2",
   "metadata": {},
   "outputs": [
    {
     "name": "stdout",
     "output_type": "stream",
     "text": [
      "[INFO] Schema cache refreshed at /Users/arturoquiroga/GITHUB/AQ-NEW-NL2SQL/DATABASE_SETUP/schema_cache.json\n",
      "DATABASE: CONTOSO-FI (Azure SQL)\n"
     ]
    }
   ],
   "source": [
    "# 4) Schema context helpers\n",
    "def _safe_import_schema_reader():\n",
    "    # add project root to path for relative imports while running from docs/\n",
    "    repo_root = os.path.dirname(os.getcwd()) if os.path.basename(os.getcwd()) == 'docs' else os.getcwd()\n",
    "    if repo_root not in sys.path:\n",
    "        sys.path.insert(0, repo_root)\n",
    "    try:\n",
    "        from schema_reader import get_sql_database_schema_context, refresh_schema_cache  # type: ignore\n",
    "        return get_sql_database_schema_context, refresh_schema_cache\n",
    "    except Exception as e:\n",
    "        raise ImportError('Unable to import schema helpers from schema_reader.py') from e\n",
    "\n",
    "REFRESH_SCHEMA = True  # toggle for demo\n",
    "get_schema_ctx, refresh_cache = _safe_import_schema_reader()\n",
    "if REFRESH_SCHEMA:\n",
    "    try:\n",
    "        path = refresh_cache()\n",
    "        print('[INFO] Schema cache refreshed at', path)\n",
    "    except Exception as e:\n",
    "        print('[WARN] Schema refresh failed:', e)\n",
    "\n",
    "schema_preview = get_schema_ctx()\n",
    "print(schema_preview.split('\\n')[0])  # first line only"
   ]
  },
  {
   "cell_type": "markdown",
   "id": "adfb4769",
   "metadata": {},
   "source": [
    "## Optional reasoning step\n",
    "Ask the model to outline a brief plan before SQL generation. Useful for transparency in demos."
   ]
  },
  {
   "cell_type": "code",
   "execution_count": 16,
   "id": "3fd523e7",
   "metadata": {},
   "outputs": [
    {
     "name": "stdout",
     "output_type": "stream",
     "text": [
      "INTENT ENTITIES: {\n",
      "  \"intent\": \"list_loans\",\n",
      "  \"entities\": {\n",
      "    \"resource\": \"loans\",\n",
      "    \"limit\": 10,\n",
      "    \"sort\": {\n",
      "      \"by\": \"date\",\n",
      "      \"order\": \"desc\",\n",
      "      \"semantic\": \"most_recent\"\n",
      "    },\n",
      "    \"filters\": []\n",
      "...\n"
     ]
    },
    {
     "ename": "KeyboardInterrupt",
     "evalue": "",
     "output_type": "error",
     "traceback": [
      "\u001b[31m---------------------------------------------------------------------------\u001b[39m",
      "\u001b[31mKeyboardInterrupt\u001b[39m                         Traceback (most recent call last)",
      "\u001b[36mCell\u001b[39m\u001b[36m \u001b[39m\u001b[32mIn[16]\u001b[39m\u001b[32m, line 18\u001b[39m\n\u001b[32m     16\u001b[39m \u001b[38;5;28mprint\u001b[39m(\u001b[33m'\u001b[39m\u001b[33mINTENT ENTITIES:\u001b[39m\u001b[33m'\u001b[39m, intent_entities[:\u001b[32m200\u001b[39m] + (\u001b[33m'\u001b[39m\u001b[33m...\u001b[39m\u001b[33m'\u001b[39m \u001b[38;5;28;01mif\u001b[39;00m \u001b[38;5;28mlen\u001b[39m(intent_entities)>\u001b[32m200\u001b[39m \u001b[38;5;28;01melse\u001b[39;00m \u001b[33m'\u001b[39m\u001b[33m'\u001b[39m))\n\u001b[32m     17\u001b[39m \u001b[38;5;28;01mif\u001b[39;00m SHOW_REASONING:\n\u001b[32m---> \u001b[39m\u001b[32m18\u001b[39m     \u001b[38;5;28mprint\u001b[39m(\u001b[33m'\u001b[39m\u001b[33mREASONING:\u001b[39m\u001b[38;5;130;01m\\n\u001b[39;00m\u001b[33m'\u001b[39m, \u001b[43mgenerate_reasoning\u001b[49m\u001b[43m(\u001b[49m\u001b[43mintent_entities\u001b[49m\u001b[43m)\u001b[49m)\n",
      "\u001b[36mCell\u001b[39m\u001b[36m \u001b[39m\u001b[32mIn[16]\u001b[39m\u001b[32m, line 8\u001b[39m, in \u001b[36mgenerate_reasoning\u001b[39m\u001b[34m(intent_entities)\u001b[39m\n\u001b[32m      6\u001b[39m     prompt_text = REASONING_PROMPT_TEXT.format(schema=schema, intent_entities=intent_entities)\n\u001b[32m      7\u001b[39m     messages = [{ \u001b[33m'\u001b[39m\u001b[33mrole\u001b[39m\u001b[33m'\u001b[39m: \u001b[33m'\u001b[39m\u001b[33muser\u001b[39m\u001b[33m'\u001b[39m, \u001b[33m'\u001b[39m\u001b[33mcontent\u001b[39m\u001b[33m'\u001b[39m: prompt_text.strip() }]\n\u001b[32m----> \u001b[39m\u001b[32m8\u001b[39m     \u001b[38;5;28;01mreturn\u001b[39;00m \u001b[43m_azure_chat_completions\u001b[49m\u001b[43m(\u001b[49m\u001b[43mmessages\u001b[49m\u001b[43m,\u001b[49m\u001b[43m \u001b[49m\u001b[43mmax_completion_tokens\u001b[49m\u001b[43m=\u001b[49m\u001b[32;43m8192\u001b[39;49m\u001b[43m)\u001b[49m\n\u001b[32m      9\u001b[39m chain = reasoning_prompt | llm\n\u001b[32m     10\u001b[39m res = chain.invoke({\u001b[33m'\u001b[39m\u001b[33mschema\u001b[39m\u001b[33m'\u001b[39m: schema, \u001b[33m'\u001b[39m\u001b[33mintent_entities\u001b[39m\u001b[33m'\u001b[39m: intent_entities})\n",
      "\u001b[36mCell\u001b[39m\u001b[36m \u001b[39m\u001b[32mIn[13]\u001b[39m\u001b[32m, line 24\u001b[39m, in \u001b[36m_azure_chat_completions\u001b[39m\u001b[34m(messages, max_completion_tokens)\u001b[39m\n\u001b[32m     22\u001b[39m     payload[\u001b[33m'\u001b[39m\u001b[33mmax_completion_tokens\u001b[39m\u001b[33m'\u001b[39m] = max_completion_tokens\n\u001b[32m     23\u001b[39m headers = {\u001b[33m'\u001b[39m\u001b[33mapi-key\u001b[39m\u001b[33m'\u001b[39m: API_KEY \u001b[38;5;129;01mor\u001b[39;00m \u001b[33m'\u001b[39m\u001b[33m'\u001b[39m, \u001b[33m'\u001b[39m\u001b[33mContent-Type\u001b[39m\u001b[33m'\u001b[39m: \u001b[33m'\u001b[39m\u001b[33mapplication/json\u001b[39m\u001b[33m'\u001b[39m}\n\u001b[32m---> \u001b[39m\u001b[32m24\u001b[39m resp = \u001b[43mrequests\u001b[49m\u001b[43m.\u001b[49m\u001b[43mpost\u001b[49m\u001b[43m(\u001b[49m\u001b[43murl\u001b[49m\u001b[43m,\u001b[49m\u001b[43m \u001b[49m\u001b[43mheaders\u001b[49m\u001b[43m=\u001b[49m\u001b[43mheaders\u001b[49m\u001b[43m,\u001b[49m\u001b[43m \u001b[49m\u001b[43mjson\u001b[49m\u001b[43m=\u001b[49m\u001b[43mpayload\u001b[49m\u001b[43m,\u001b[49m\u001b[43m \u001b[49m\u001b[43mtimeout\u001b[49m\u001b[43m=\u001b[49m\u001b[32;43m60\u001b[39;49m\u001b[43m)\u001b[49m\n\u001b[32m     25\u001b[39m resp.raise_for_status()\n\u001b[32m     26\u001b[39m data = resp.json()\n",
      "\u001b[36mFile \u001b[39m\u001b[32m~/GITHUB/AQ-NEW-NL2SQL/.venv/lib/python3.13/site-packages/requests/api.py:115\u001b[39m, in \u001b[36mpost\u001b[39m\u001b[34m(url, data, json, **kwargs)\u001b[39m\n\u001b[32m    103\u001b[39m \u001b[38;5;28;01mdef\u001b[39;00m\u001b[38;5;250m \u001b[39m\u001b[34mpost\u001b[39m(url, data=\u001b[38;5;28;01mNone\u001b[39;00m, json=\u001b[38;5;28;01mNone\u001b[39;00m, **kwargs):\n\u001b[32m    104\u001b[39m \u001b[38;5;250m    \u001b[39m\u001b[33mr\u001b[39m\u001b[33;03m\"\"\"Sends a POST request.\u001b[39;00m\n\u001b[32m    105\u001b[39m \n\u001b[32m    106\u001b[39m \u001b[33;03m    :param url: URL for the new :class:`Request` object.\u001b[39;00m\n\u001b[32m   (...)\u001b[39m\u001b[32m    112\u001b[39m \u001b[33;03m    :rtype: requests.Response\u001b[39;00m\n\u001b[32m    113\u001b[39m \u001b[33;03m    \"\"\"\u001b[39;00m\n\u001b[32m--> \u001b[39m\u001b[32m115\u001b[39m     \u001b[38;5;28;01mreturn\u001b[39;00m \u001b[43mrequest\u001b[49m\u001b[43m(\u001b[49m\u001b[33;43m\"\u001b[39;49m\u001b[33;43mpost\u001b[39;49m\u001b[33;43m\"\u001b[39;49m\u001b[43m,\u001b[49m\u001b[43m \u001b[49m\u001b[43murl\u001b[49m\u001b[43m,\u001b[49m\u001b[43m \u001b[49m\u001b[43mdata\u001b[49m\u001b[43m=\u001b[49m\u001b[43mdata\u001b[49m\u001b[43m,\u001b[49m\u001b[43m \u001b[49m\u001b[43mjson\u001b[49m\u001b[43m=\u001b[49m\u001b[43mjson\u001b[49m\u001b[43m,\u001b[49m\u001b[43m \u001b[49m\u001b[43m*\u001b[49m\u001b[43m*\u001b[49m\u001b[43mkwargs\u001b[49m\u001b[43m)\u001b[49m\n",
      "\u001b[36mFile \u001b[39m\u001b[32m~/GITHUB/AQ-NEW-NL2SQL/.venv/lib/python3.13/site-packages/requests/api.py:59\u001b[39m, in \u001b[36mrequest\u001b[39m\u001b[34m(method, url, **kwargs)\u001b[39m\n\u001b[32m     55\u001b[39m \u001b[38;5;66;03m# By using the 'with' statement we are sure the session is closed, thus we\u001b[39;00m\n\u001b[32m     56\u001b[39m \u001b[38;5;66;03m# avoid leaving sockets open which can trigger a ResourceWarning in some\u001b[39;00m\n\u001b[32m     57\u001b[39m \u001b[38;5;66;03m# cases, and look like a memory leak in others.\u001b[39;00m\n\u001b[32m     58\u001b[39m \u001b[38;5;28;01mwith\u001b[39;00m sessions.Session() \u001b[38;5;28;01mas\u001b[39;00m session:\n\u001b[32m---> \u001b[39m\u001b[32m59\u001b[39m     \u001b[38;5;28;01mreturn\u001b[39;00m \u001b[43msession\u001b[49m\u001b[43m.\u001b[49m\u001b[43mrequest\u001b[49m\u001b[43m(\u001b[49m\u001b[43mmethod\u001b[49m\u001b[43m=\u001b[49m\u001b[43mmethod\u001b[49m\u001b[43m,\u001b[49m\u001b[43m \u001b[49m\u001b[43murl\u001b[49m\u001b[43m=\u001b[49m\u001b[43murl\u001b[49m\u001b[43m,\u001b[49m\u001b[43m \u001b[49m\u001b[43m*\u001b[49m\u001b[43m*\u001b[49m\u001b[43mkwargs\u001b[49m\u001b[43m)\u001b[49m\n",
      "\u001b[36mFile \u001b[39m\u001b[32m~/GITHUB/AQ-NEW-NL2SQL/.venv/lib/python3.13/site-packages/requests/sessions.py:589\u001b[39m, in \u001b[36mSession.request\u001b[39m\u001b[34m(self, method, url, params, data, headers, cookies, files, auth, timeout, allow_redirects, proxies, hooks, stream, verify, cert, json)\u001b[39m\n\u001b[32m    584\u001b[39m send_kwargs = {\n\u001b[32m    585\u001b[39m     \u001b[33m\"\u001b[39m\u001b[33mtimeout\u001b[39m\u001b[33m\"\u001b[39m: timeout,\n\u001b[32m    586\u001b[39m     \u001b[33m\"\u001b[39m\u001b[33mallow_redirects\u001b[39m\u001b[33m\"\u001b[39m: allow_redirects,\n\u001b[32m    587\u001b[39m }\n\u001b[32m    588\u001b[39m send_kwargs.update(settings)\n\u001b[32m--> \u001b[39m\u001b[32m589\u001b[39m resp = \u001b[38;5;28;43mself\u001b[39;49m\u001b[43m.\u001b[49m\u001b[43msend\u001b[49m\u001b[43m(\u001b[49m\u001b[43mprep\u001b[49m\u001b[43m,\u001b[49m\u001b[43m \u001b[49m\u001b[43m*\u001b[49m\u001b[43m*\u001b[49m\u001b[43msend_kwargs\u001b[49m\u001b[43m)\u001b[49m\n\u001b[32m    591\u001b[39m \u001b[38;5;28;01mreturn\u001b[39;00m resp\n",
      "\u001b[36mFile \u001b[39m\u001b[32m~/GITHUB/AQ-NEW-NL2SQL/.venv/lib/python3.13/site-packages/requests/sessions.py:703\u001b[39m, in \u001b[36mSession.send\u001b[39m\u001b[34m(self, request, **kwargs)\u001b[39m\n\u001b[32m    700\u001b[39m start = preferred_clock()\n\u001b[32m    702\u001b[39m \u001b[38;5;66;03m# Send the request\u001b[39;00m\n\u001b[32m--> \u001b[39m\u001b[32m703\u001b[39m r = \u001b[43madapter\u001b[49m\u001b[43m.\u001b[49m\u001b[43msend\u001b[49m\u001b[43m(\u001b[49m\u001b[43mrequest\u001b[49m\u001b[43m,\u001b[49m\u001b[43m \u001b[49m\u001b[43m*\u001b[49m\u001b[43m*\u001b[49m\u001b[43mkwargs\u001b[49m\u001b[43m)\u001b[49m\n\u001b[32m    705\u001b[39m \u001b[38;5;66;03m# Total elapsed time of the request (approximately)\u001b[39;00m\n\u001b[32m    706\u001b[39m elapsed = preferred_clock() - start\n",
      "\u001b[36mFile \u001b[39m\u001b[32m~/GITHUB/AQ-NEW-NL2SQL/.venv/lib/python3.13/site-packages/requests/adapters.py:644\u001b[39m, in \u001b[36mHTTPAdapter.send\u001b[39m\u001b[34m(self, request, stream, timeout, verify, cert, proxies)\u001b[39m\n\u001b[32m    641\u001b[39m     timeout = TimeoutSauce(connect=timeout, read=timeout)\n\u001b[32m    643\u001b[39m \u001b[38;5;28;01mtry\u001b[39;00m:\n\u001b[32m--> \u001b[39m\u001b[32m644\u001b[39m     resp = \u001b[43mconn\u001b[49m\u001b[43m.\u001b[49m\u001b[43murlopen\u001b[49m\u001b[43m(\u001b[49m\n\u001b[32m    645\u001b[39m \u001b[43m        \u001b[49m\u001b[43mmethod\u001b[49m\u001b[43m=\u001b[49m\u001b[43mrequest\u001b[49m\u001b[43m.\u001b[49m\u001b[43mmethod\u001b[49m\u001b[43m,\u001b[49m\n\u001b[32m    646\u001b[39m \u001b[43m        \u001b[49m\u001b[43murl\u001b[49m\u001b[43m=\u001b[49m\u001b[43murl\u001b[49m\u001b[43m,\u001b[49m\n\u001b[32m    647\u001b[39m \u001b[43m        \u001b[49m\u001b[43mbody\u001b[49m\u001b[43m=\u001b[49m\u001b[43mrequest\u001b[49m\u001b[43m.\u001b[49m\u001b[43mbody\u001b[49m\u001b[43m,\u001b[49m\n\u001b[32m    648\u001b[39m \u001b[43m        \u001b[49m\u001b[43mheaders\u001b[49m\u001b[43m=\u001b[49m\u001b[43mrequest\u001b[49m\u001b[43m.\u001b[49m\u001b[43mheaders\u001b[49m\u001b[43m,\u001b[49m\n\u001b[32m    649\u001b[39m \u001b[43m        \u001b[49m\u001b[43mredirect\u001b[49m\u001b[43m=\u001b[49m\u001b[38;5;28;43;01mFalse\u001b[39;49;00m\u001b[43m,\u001b[49m\n\u001b[32m    650\u001b[39m \u001b[43m        \u001b[49m\u001b[43massert_same_host\u001b[49m\u001b[43m=\u001b[49m\u001b[38;5;28;43;01mFalse\u001b[39;49;00m\u001b[43m,\u001b[49m\n\u001b[32m    651\u001b[39m \u001b[43m        \u001b[49m\u001b[43mpreload_content\u001b[49m\u001b[43m=\u001b[49m\u001b[38;5;28;43;01mFalse\u001b[39;49;00m\u001b[43m,\u001b[49m\n\u001b[32m    652\u001b[39m \u001b[43m        \u001b[49m\u001b[43mdecode_content\u001b[49m\u001b[43m=\u001b[49m\u001b[38;5;28;43;01mFalse\u001b[39;49;00m\u001b[43m,\u001b[49m\n\u001b[32m    653\u001b[39m \u001b[43m        \u001b[49m\u001b[43mretries\u001b[49m\u001b[43m=\u001b[49m\u001b[38;5;28;43mself\u001b[39;49m\u001b[43m.\u001b[49m\u001b[43mmax_retries\u001b[49m\u001b[43m,\u001b[49m\n\u001b[32m    654\u001b[39m \u001b[43m        \u001b[49m\u001b[43mtimeout\u001b[49m\u001b[43m=\u001b[49m\u001b[43mtimeout\u001b[49m\u001b[43m,\u001b[49m\n\u001b[32m    655\u001b[39m \u001b[43m        \u001b[49m\u001b[43mchunked\u001b[49m\u001b[43m=\u001b[49m\u001b[43mchunked\u001b[49m\u001b[43m,\u001b[49m\n\u001b[32m    656\u001b[39m \u001b[43m    \u001b[49m\u001b[43m)\u001b[49m\n\u001b[32m    658\u001b[39m \u001b[38;5;28;01mexcept\u001b[39;00m (ProtocolError, \u001b[38;5;167;01mOSError\u001b[39;00m) \u001b[38;5;28;01mas\u001b[39;00m err:\n\u001b[32m    659\u001b[39m     \u001b[38;5;28;01mraise\u001b[39;00m \u001b[38;5;167;01mConnectionError\u001b[39;00m(err, request=request)\n",
      "\u001b[36mFile \u001b[39m\u001b[32m~/GITHUB/AQ-NEW-NL2SQL/.venv/lib/python3.13/site-packages/urllib3/connectionpool.py:787\u001b[39m, in \u001b[36mHTTPConnectionPool.urlopen\u001b[39m\u001b[34m(self, method, url, body, headers, retries, redirect, assert_same_host, timeout, pool_timeout, release_conn, chunked, body_pos, preload_content, decode_content, **response_kw)\u001b[39m\n\u001b[32m    784\u001b[39m response_conn = conn \u001b[38;5;28;01mif\u001b[39;00m \u001b[38;5;129;01mnot\u001b[39;00m release_conn \u001b[38;5;28;01melse\u001b[39;00m \u001b[38;5;28;01mNone\u001b[39;00m\n\u001b[32m    786\u001b[39m \u001b[38;5;66;03m# Make the request on the HTTPConnection object\u001b[39;00m\n\u001b[32m--> \u001b[39m\u001b[32m787\u001b[39m response = \u001b[38;5;28;43mself\u001b[39;49m\u001b[43m.\u001b[49m\u001b[43m_make_request\u001b[49m\u001b[43m(\u001b[49m\n\u001b[32m    788\u001b[39m \u001b[43m    \u001b[49m\u001b[43mconn\u001b[49m\u001b[43m,\u001b[49m\n\u001b[32m    789\u001b[39m \u001b[43m    \u001b[49m\u001b[43mmethod\u001b[49m\u001b[43m,\u001b[49m\n\u001b[32m    790\u001b[39m \u001b[43m    \u001b[49m\u001b[43murl\u001b[49m\u001b[43m,\u001b[49m\n\u001b[32m    791\u001b[39m \u001b[43m    \u001b[49m\u001b[43mtimeout\u001b[49m\u001b[43m=\u001b[49m\u001b[43mtimeout_obj\u001b[49m\u001b[43m,\u001b[49m\n\u001b[32m    792\u001b[39m \u001b[43m    \u001b[49m\u001b[43mbody\u001b[49m\u001b[43m=\u001b[49m\u001b[43mbody\u001b[49m\u001b[43m,\u001b[49m\n\u001b[32m    793\u001b[39m \u001b[43m    \u001b[49m\u001b[43mheaders\u001b[49m\u001b[43m=\u001b[49m\u001b[43mheaders\u001b[49m\u001b[43m,\u001b[49m\n\u001b[32m    794\u001b[39m \u001b[43m    \u001b[49m\u001b[43mchunked\u001b[49m\u001b[43m=\u001b[49m\u001b[43mchunked\u001b[49m\u001b[43m,\u001b[49m\n\u001b[32m    795\u001b[39m \u001b[43m    \u001b[49m\u001b[43mretries\u001b[49m\u001b[43m=\u001b[49m\u001b[43mretries\u001b[49m\u001b[43m,\u001b[49m\n\u001b[32m    796\u001b[39m \u001b[43m    \u001b[49m\u001b[43mresponse_conn\u001b[49m\u001b[43m=\u001b[49m\u001b[43mresponse_conn\u001b[49m\u001b[43m,\u001b[49m\n\u001b[32m    797\u001b[39m \u001b[43m    \u001b[49m\u001b[43mpreload_content\u001b[49m\u001b[43m=\u001b[49m\u001b[43mpreload_content\u001b[49m\u001b[43m,\u001b[49m\n\u001b[32m    798\u001b[39m \u001b[43m    \u001b[49m\u001b[43mdecode_content\u001b[49m\u001b[43m=\u001b[49m\u001b[43mdecode_content\u001b[49m\u001b[43m,\u001b[49m\n\u001b[32m    799\u001b[39m \u001b[43m    \u001b[49m\u001b[43m*\u001b[49m\u001b[43m*\u001b[49m\u001b[43mresponse_kw\u001b[49m\u001b[43m,\u001b[49m\n\u001b[32m    800\u001b[39m \u001b[43m\u001b[49m\u001b[43m)\u001b[49m\n\u001b[32m    802\u001b[39m \u001b[38;5;66;03m# Everything went great!\u001b[39;00m\n\u001b[32m    803\u001b[39m clean_exit = \u001b[38;5;28;01mTrue\u001b[39;00m\n",
      "\u001b[36mFile \u001b[39m\u001b[32m~/GITHUB/AQ-NEW-NL2SQL/.venv/lib/python3.13/site-packages/urllib3/connectionpool.py:534\u001b[39m, in \u001b[36mHTTPConnectionPool._make_request\u001b[39m\u001b[34m(self, conn, method, url, body, headers, retries, timeout, chunked, response_conn, preload_content, decode_content, enforce_content_length)\u001b[39m\n\u001b[32m    532\u001b[39m \u001b[38;5;66;03m# Receive the response from the server\u001b[39;00m\n\u001b[32m    533\u001b[39m \u001b[38;5;28;01mtry\u001b[39;00m:\n\u001b[32m--> \u001b[39m\u001b[32m534\u001b[39m     response = \u001b[43mconn\u001b[49m\u001b[43m.\u001b[49m\u001b[43mgetresponse\u001b[49m\u001b[43m(\u001b[49m\u001b[43m)\u001b[49m\n\u001b[32m    535\u001b[39m \u001b[38;5;28;01mexcept\u001b[39;00m (BaseSSLError, \u001b[38;5;167;01mOSError\u001b[39;00m) \u001b[38;5;28;01mas\u001b[39;00m e:\n\u001b[32m    536\u001b[39m     \u001b[38;5;28mself\u001b[39m._raise_timeout(err=e, url=url, timeout_value=read_timeout)\n",
      "\u001b[36mFile \u001b[39m\u001b[32m~/GITHUB/AQ-NEW-NL2SQL/.venv/lib/python3.13/site-packages/urllib3/connection.py:565\u001b[39m, in \u001b[36mHTTPConnection.getresponse\u001b[39m\u001b[34m(self)\u001b[39m\n\u001b[32m    562\u001b[39m _shutdown = \u001b[38;5;28mgetattr\u001b[39m(\u001b[38;5;28mself\u001b[39m.sock, \u001b[33m\"\u001b[39m\u001b[33mshutdown\u001b[39m\u001b[33m\"\u001b[39m, \u001b[38;5;28;01mNone\u001b[39;00m)\n\u001b[32m    564\u001b[39m \u001b[38;5;66;03m# Get the response from http.client.HTTPConnection\u001b[39;00m\n\u001b[32m--> \u001b[39m\u001b[32m565\u001b[39m httplib_response = \u001b[38;5;28;43msuper\u001b[39;49m\u001b[43m(\u001b[49m\u001b[43m)\u001b[49m\u001b[43m.\u001b[49m\u001b[43mgetresponse\u001b[49m\u001b[43m(\u001b[49m\u001b[43m)\u001b[49m\n\u001b[32m    567\u001b[39m \u001b[38;5;28;01mtry\u001b[39;00m:\n\u001b[32m    568\u001b[39m     assert_header_parsing(httplib_response.msg)\n",
      "\u001b[36mFile \u001b[39m\u001b[32m/opt/homebrew/Cellar/python@3.13/3.13.7/Frameworks/Python.framework/Versions/3.13/lib/python3.13/http/client.py:1430\u001b[39m, in \u001b[36mHTTPConnection.getresponse\u001b[39m\u001b[34m(self)\u001b[39m\n\u001b[32m   1428\u001b[39m \u001b[38;5;28;01mtry\u001b[39;00m:\n\u001b[32m   1429\u001b[39m     \u001b[38;5;28;01mtry\u001b[39;00m:\n\u001b[32m-> \u001b[39m\u001b[32m1430\u001b[39m         \u001b[43mresponse\u001b[49m\u001b[43m.\u001b[49m\u001b[43mbegin\u001b[49m\u001b[43m(\u001b[49m\u001b[43m)\u001b[49m\n\u001b[32m   1431\u001b[39m     \u001b[38;5;28;01mexcept\u001b[39;00m \u001b[38;5;167;01mConnectionError\u001b[39;00m:\n\u001b[32m   1432\u001b[39m         \u001b[38;5;28mself\u001b[39m.close()\n",
      "\u001b[36mFile \u001b[39m\u001b[32m/opt/homebrew/Cellar/python@3.13/3.13.7/Frameworks/Python.framework/Versions/3.13/lib/python3.13/http/client.py:331\u001b[39m, in \u001b[36mHTTPResponse.begin\u001b[39m\u001b[34m(self)\u001b[39m\n\u001b[32m    329\u001b[39m \u001b[38;5;66;03m# read until we get a non-100 response\u001b[39;00m\n\u001b[32m    330\u001b[39m \u001b[38;5;28;01mwhile\u001b[39;00m \u001b[38;5;28;01mTrue\u001b[39;00m:\n\u001b[32m--> \u001b[39m\u001b[32m331\u001b[39m     version, status, reason = \u001b[38;5;28;43mself\u001b[39;49m\u001b[43m.\u001b[49m\u001b[43m_read_status\u001b[49m\u001b[43m(\u001b[49m\u001b[43m)\u001b[49m\n\u001b[32m    332\u001b[39m     \u001b[38;5;28;01mif\u001b[39;00m status != CONTINUE:\n\u001b[32m    333\u001b[39m         \u001b[38;5;28;01mbreak\u001b[39;00m\n",
      "\u001b[36mFile \u001b[39m\u001b[32m/opt/homebrew/Cellar/python@3.13/3.13.7/Frameworks/Python.framework/Versions/3.13/lib/python3.13/http/client.py:292\u001b[39m, in \u001b[36mHTTPResponse._read_status\u001b[39m\u001b[34m(self)\u001b[39m\n\u001b[32m    291\u001b[39m \u001b[38;5;28;01mdef\u001b[39;00m\u001b[38;5;250m \u001b[39m\u001b[34m_read_status\u001b[39m(\u001b[38;5;28mself\u001b[39m):\n\u001b[32m--> \u001b[39m\u001b[32m292\u001b[39m     line = \u001b[38;5;28mstr\u001b[39m(\u001b[38;5;28;43mself\u001b[39;49m\u001b[43m.\u001b[49m\u001b[43mfp\u001b[49m\u001b[43m.\u001b[49m\u001b[43mreadline\u001b[49m\u001b[43m(\u001b[49m\u001b[43m_MAXLINE\u001b[49m\u001b[43m \u001b[49m\u001b[43m+\u001b[49m\u001b[43m \u001b[49m\u001b[32;43m1\u001b[39;49m\u001b[43m)\u001b[49m, \u001b[33m\"\u001b[39m\u001b[33miso-8859-1\u001b[39m\u001b[33m\"\u001b[39m)\n\u001b[32m    293\u001b[39m     \u001b[38;5;28;01mif\u001b[39;00m \u001b[38;5;28mlen\u001b[39m(line) > _MAXLINE:\n\u001b[32m    294\u001b[39m         \u001b[38;5;28;01mraise\u001b[39;00m LineTooLong(\u001b[33m\"\u001b[39m\u001b[33mstatus line\u001b[39m\u001b[33m\"\u001b[39m)\n",
      "\u001b[36mFile \u001b[39m\u001b[32m/opt/homebrew/Cellar/python@3.13/3.13.7/Frameworks/Python.framework/Versions/3.13/lib/python3.13/socket.py:719\u001b[39m, in \u001b[36mSocketIO.readinto\u001b[39m\u001b[34m(self, b)\u001b[39m\n\u001b[32m    717\u001b[39m     \u001b[38;5;28;01mraise\u001b[39;00m \u001b[38;5;167;01mOSError\u001b[39;00m(\u001b[33m\"\u001b[39m\u001b[33mcannot read from timed out object\u001b[39m\u001b[33m\"\u001b[39m)\n\u001b[32m    718\u001b[39m \u001b[38;5;28;01mtry\u001b[39;00m:\n\u001b[32m--> \u001b[39m\u001b[32m719\u001b[39m     \u001b[38;5;28;01mreturn\u001b[39;00m \u001b[38;5;28;43mself\u001b[39;49m\u001b[43m.\u001b[49m\u001b[43m_sock\u001b[49m\u001b[43m.\u001b[49m\u001b[43mrecv_into\u001b[49m\u001b[43m(\u001b[49m\u001b[43mb\u001b[49m\u001b[43m)\u001b[49m\n\u001b[32m    720\u001b[39m \u001b[38;5;28;01mexcept\u001b[39;00m timeout:\n\u001b[32m    721\u001b[39m     \u001b[38;5;28mself\u001b[39m._timeout_occurred = \u001b[38;5;28;01mTrue\u001b[39;00m\n",
      "\u001b[36mFile \u001b[39m\u001b[32m/opt/homebrew/Cellar/python@3.13/3.13.7/Frameworks/Python.framework/Versions/3.13/lib/python3.13/ssl.py:1304\u001b[39m, in \u001b[36mSSLSocket.recv_into\u001b[39m\u001b[34m(self, buffer, nbytes, flags)\u001b[39m\n\u001b[32m   1300\u001b[39m     \u001b[38;5;28;01mif\u001b[39;00m flags != \u001b[32m0\u001b[39m:\n\u001b[32m   1301\u001b[39m         \u001b[38;5;28;01mraise\u001b[39;00m \u001b[38;5;167;01mValueError\u001b[39;00m(\n\u001b[32m   1302\u001b[39m           \u001b[33m\"\u001b[39m\u001b[33mnon-zero flags not allowed in calls to recv_into() on \u001b[39m\u001b[38;5;132;01m%s\u001b[39;00m\u001b[33m\"\u001b[39m %\n\u001b[32m   1303\u001b[39m           \u001b[38;5;28mself\u001b[39m.\u001b[34m__class__\u001b[39m)\n\u001b[32m-> \u001b[39m\u001b[32m1304\u001b[39m     \u001b[38;5;28;01mreturn\u001b[39;00m \u001b[38;5;28;43mself\u001b[39;49m\u001b[43m.\u001b[49m\u001b[43mread\u001b[49m\u001b[43m(\u001b[49m\u001b[43mnbytes\u001b[49m\u001b[43m,\u001b[49m\u001b[43m \u001b[49m\u001b[43mbuffer\u001b[49m\u001b[43m)\u001b[49m\n\u001b[32m   1305\u001b[39m \u001b[38;5;28;01melse\u001b[39;00m:\n\u001b[32m   1306\u001b[39m     \u001b[38;5;28;01mreturn\u001b[39;00m \u001b[38;5;28msuper\u001b[39m().recv_into(buffer, nbytes, flags)\n",
      "\u001b[36mFile \u001b[39m\u001b[32m/opt/homebrew/Cellar/python@3.13/3.13.7/Frameworks/Python.framework/Versions/3.13/lib/python3.13/ssl.py:1138\u001b[39m, in \u001b[36mSSLSocket.read\u001b[39m\u001b[34m(self, len, buffer)\u001b[39m\n\u001b[32m   1136\u001b[39m \u001b[38;5;28;01mtry\u001b[39;00m:\n\u001b[32m   1137\u001b[39m     \u001b[38;5;28;01mif\u001b[39;00m buffer \u001b[38;5;129;01mis\u001b[39;00m \u001b[38;5;129;01mnot\u001b[39;00m \u001b[38;5;28;01mNone\u001b[39;00m:\n\u001b[32m-> \u001b[39m\u001b[32m1138\u001b[39m         \u001b[38;5;28;01mreturn\u001b[39;00m \u001b[38;5;28;43mself\u001b[39;49m\u001b[43m.\u001b[49m\u001b[43m_sslobj\u001b[49m\u001b[43m.\u001b[49m\u001b[43mread\u001b[49m\u001b[43m(\u001b[49m\u001b[38;5;28;43mlen\u001b[39;49m\u001b[43m,\u001b[49m\u001b[43m \u001b[49m\u001b[43mbuffer\u001b[49m\u001b[43m)\u001b[49m\n\u001b[32m   1139\u001b[39m     \u001b[38;5;28;01melse\u001b[39;00m:\n\u001b[32m   1140\u001b[39m         \u001b[38;5;28;01mreturn\u001b[39;00m \u001b[38;5;28mself\u001b[39m._sslobj.read(\u001b[38;5;28mlen\u001b[39m)\n",
      "\u001b[31mKeyboardInterrupt\u001b[39m: "
     ]
    }
   ],
   "source": [
    "# 5) Reasoning function\n",
    "\n",
    "def generate_reasoning(intent_entities: str) -> str:\n",
    "    schema = get_schema_ctx()\n",
    "    if USING_REASONING:\n",
    "        prompt_text = REASONING_PROMPT_TEXT.format(schema=schema, intent_entities=intent_entities)\n",
    "        messages = [{ 'role': 'user', 'content': prompt_text.strip() }]\n",
    "        return _azure_chat_completions(messages, max_completion_tokens=8192)\n",
    "    chain = reasoning_prompt | llm\n",
    "    res = chain.invoke({'schema': schema, 'intent_entities': intent_entities})\n",
    "    return res.content\n",
    "\n",
    "SHOW_REASONING = True  # toggle for demo\n",
    "test_query = 'Show the 10 most recent loans'\n",
    "intent_entities = parse_nl_query(test_query)\n",
    "print('INTENT ENTITIES:', intent_entities[:200] + ('...' if len(intent_entities)>200 else ''))\n",
    "if SHOW_REASONING:\n",
    "    print('REASONING:\\n', generate_reasoning(intent_entities))"
   ]
  },
  {
   "cell_type": "markdown",
   "id": "abffc8fd",
   "metadata": {},
   "source": [
    "## SQL generation\n",
    "Generate T-SQL for the given intent/entities and schema context."
   ]
  },
  {
   "cell_type": "code",
   "execution_count": null,
   "id": "dc085498",
   "metadata": {},
   "outputs": [],
   "source": [
    "# 6) SQL generation function\n",
    "\n",
    "def generate_sql(intent_entities: str) -> str:\n",
    "    schema = get_schema_ctx()\n",
    "    if USING_REASONING:\n",
    "        prompt_text = SQL_PROMPT_TEXT.format(schema=schema, intent_entities=intent_entities)\n",
    "        messages = [{ 'role': 'user', 'content': prompt_text.strip() }]\n",
    "        return _azure_chat_completions(messages, max_completion_tokens=8192)\n",
    "    chain = sql_prompt | llm\n",
    "    result = chain.invoke({'schema': schema, 'intent_entities': intent_entities})\n",
    "    return result.content\n",
    "\n",
    "raw_sql = generate_sql(intent_entities)\n",
    "print('RAW SQL (truncated):\\n', (raw_sql[:500] + '...') if len(raw_sql)>500 else raw_sql)"
   ]
  },
  {
   "cell_type": "markdown",
   "id": "218955ba",
   "metadata": {},
   "source": [
    "## SQL sanitization\n",
    "Extract only the executable SQL portion and normalize quotes for safety."
   ]
  },
  {
   "cell_type": "code",
   "execution_count": null,
   "id": "4440cce3",
   "metadata": {},
   "outputs": [],
   "source": [
    "# 7) SQL sanitization\n",
    "def extract_and_sanitize_sql(raw_sql: str) -> str:\n",
    "    sql_code = raw_sql\n",
    "    m = re.search(r\"```sql\\s*([\\s\\S]+?)```\", raw_sql, re.IGNORECASE)\n",
    "    if not m:\n",
    "        m = re.search(r\"```([\\s\\S]+?)```\", raw_sql)\n",
    "    if m:\n",
    "        sql_code = m.group(1).strip()\n",
    "    else:\n",
    "        m2 = re.search(r\"(SELECT[\\s\\S]+)\", raw_sql, re.IGNORECASE)\n",
    "        if m2:\n",
    "            sql_code = m2.group(1).strip()\n",
    "    return (sql_code\n",
    "            .replace('’', \"'\")\n",
    "            .replace('‘', \"'\")\n",
    "            .replace('“', '\"')\n",
    "            .replace('”', '\"'))\n",
    "\n",
    "sql_to_run = extract_and_sanitize_sql(raw_sql)\n",
    "print('SANITIZED SQL:\\n', sql_to_run)"
   ]
  },
  {
   "cell_type": "markdown",
   "id": "db1ae6a6",
   "metadata": {},
   "source": [
    "## Execution (optional)\n",
    "Use `sql_executor.execute_sql_query` to run against Azure SQL. Keep NO_EXEC=True for dry runs during demos."
   ]
  },
  {
   "cell_type": "code",
   "execution_count": null,
   "id": "c5ab8278",
   "metadata": {},
   "outputs": [],
   "source": [
    "# 8) SQL execution helpers\n",
    "\n",
    "def _safe_import_sql_executor():\n",
    "    repo_root = os.path.dirname(os.getcwd()) if os.path.basename(os.getcwd()) == 'docs' else os.getcwd()\n",
    "    if repo_root not in sys.path:\n",
    "        sys.path.insert(0, repo_root)\n",
    "    try:\n",
    "        from sql_executor import execute_sql_query  # type: ignore\n",
    "        return execute_sql_query\n",
    "    except Exception as e:\n",
    "        raise ImportError('Unable to import execute_sql_query from sql_executor.py') from e\n",
    "\n",
    "\n",
    "def _format_table(rows):\n",
    "    if not rows:\n",
    "        return 'No results returned.\\n', []\n",
    "    columns = list(rows[0].keys())\n",
    "    col_widths = {c: max(len(c), max(len(str(r[c])) for r in rows)) for c in columns}\n",
    "    header = ' | '.join(c.ljust(col_widths[c]) for c in columns)\n",
    "    sep = '-+-'.join('-' * col_widths[c] for c in columns)\n",
    "    lines = [header, sep]\n",
    "    for r in rows:\n",
    "        lines.append(' | '.join(str(r[c]).ljust(col_widths[c]) for c in columns))\n",
    "    return ('\\n'.join(lines) + '\\n', [header, sep] + [' | '.join(str(r[c]).ljust(col_widths[c]) for c in columns) for r in rows])\n",
    "\n",
    "# Default to no execution here; the end-to-end runner cell controls execution.\n",
    "NO_EXEC = False  # default; override in the runner cell if you want to execute"
   ]
  },
  {
   "cell_type": "markdown",
   "id": "13e42e9f",
   "metadata": {},
   "source": [
    "## End-to-end demo cell\n",
    "Update toggles (`REFRESH_SCHEMA`, `SHOW_REASONING`, `NO_EXEC`) and `test_query` above as needed.\n",
    "Run this cell to repeat the flow with a different question."
   ]
  },
  {
   "cell_type": "code",
   "execution_count": null,
   "id": "ccc69c54",
   "metadata": {},
   "outputs": [],
   "source": [
    "# 9) Rerun flow with another question (single, hardened output)\n",
    "\n",
    "# Pick your test query (uses global default unless you set a new one here)\n",
    "user_query = default_test_query\n",
    "\n",
    "# 1) Intent/entities\n",
    "intent_entities = parse_nl_query(user_query)\n",
    "if SHOW_INTENT:\n",
    "    print_colored_block('INTENT ENTITIES:', intent_entities[:200] + ('...' if len(intent_entities)>200 else ''), YELLOW)\n",
    "\n",
    "# 2) Optional reasoning\n",
    "if SHOW_REASONING:\n",
    "    try:\n",
    "        r = generate_reasoning(intent_entities)\n",
    "        print_colored_block('REASONING:', (r if (r and r.strip()) else '[no reasoning returned]'), LIGHT_BLUE)\n",
    "    except Exception as e:\n",
    "        print('[WARN] Reasoning step failed:', e)\n",
    "\n",
    "# 3) SQL generation with guard\n",
    "try:\n",
    "    raw_sql = generate_sql(intent_entities)\n",
    "except Exception as e:\n",
    "    raw_sql = ''\n",
    "    print('[ERROR] SQL generation failed:', e)\n",
    "\n",
    "if not raw_sql or not raw_sql.strip():\n",
    "    print_colored_block('RAW SQL (truncated):', '[empty]', WHITE)\n",
    "    sql_to_run = ''\n",
    "    print_colored_block('SANITIZED SQL:', '[empty]', GRAY)\n",
    "else:\n",
    "    print_colored_block('RAW SQL (truncated):', (raw_sql[:500] + '...') if len(raw_sql)>500 else raw_sql, WHITE)\n",
    "    sql_to_run = extract_and_sanitize_sql(raw_sql)\n",
    "    print_colored_block('SANITIZED SQL:', sql_to_run, GRAY)\n",
    "\n",
    "# 4) Execution with safety checks\n",
    "if not NO_EXEC:\n",
    "    sql_final = sql_to_run if 'sql_to_run' in locals() else ''\n",
    "    if not sql_final or not sql_final.strip():\n",
    "        print('[INFO] Skipping execution: SQL is empty.')\n",
    "    elif not re.search(r'\\bselect\\b', sql_final, re.IGNORECASE):\n",
    "        print('[INFO] Skipping execution: No SELECT statement detected.')\n",
    "    else:\n",
    "        try:\n",
    "            execute_sql_query = _safe_import_sql_executor()\n",
    "            rows = execute_sql_query(sql_final)\n",
    "            table_text, _ = _format_table(rows)\n",
    "            print_colored_block('RESULTS:', table_text, GOLD)\n",
    "        except Exception as e:\n",
    "            print('[ERROR] Query failed:', e)\n",
    "else:\n",
    "    print('[INFO] Execution skipped (NO_EXEC=True)')"
   ]
  }
 ],
 "metadata": {
  "kernelspec": {
   "display_name": ".venv (3.13.7)",
   "language": "python",
   "name": "python3"
  },
  "language_info": {
   "codemirror_mode": {
    "name": "ipython",
    "version": 3
   },
   "file_extension": ".py",
   "mimetype": "text/x-python",
   "name": "python",
   "nbconvert_exporter": "python",
   "pygments_lexer": "ipython3",
   "version": "3.13.7"
  }
 },
 "nbformat": 4,
 "nbformat_minor": 5
}
