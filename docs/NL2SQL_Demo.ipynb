{
 "cells": [
  {
   "cell_type": "markdown",
   "id": "1fee43a8",
   "metadata": {},
   "source": [
    "# NL→SQL Demo Notebook (Azure OpenAI + Azure SQL)\n",
    "\n",
    "This notebook walks through the NL→Intent→SQL pipeline step by step (aligned with the project flowchart).\n",
    "Each code cell is paired with guidance to help you present or explore the pipeline (for TERADATA demo)."
   ]
  },
  {
   "cell_type": "code",
   "execution_count": 1,
   "id": "a7db8c1c",
   "metadata": {},
   "outputs": [
    {
     "name": "stdout",
     "output_type": "stream",
     "text": [
      "Environment loaded. Ready to configure Azure OpenAI and Azure SQL.\n"
     ]
    }
   ],
   "source": [
    "# Imports and environment setup\n",
    "import os, re, sys, json, time\n",
    "from typing import List, Dict, Any\n",
    "from datetime import datetime\n",
    "from dotenv import load_dotenv\n",
    "\n",
    "# Third-party\n",
    "from langchain_openai import AzureChatOpenAI\n",
    "from langchain.prompts import ChatPromptTemplate\n",
    "\n",
    "# Load .env (expects Azure OpenAI + Azure SQL vars)\n",
    "load_dotenv()\n",
    "print('Environment loaded. Ready to configure Azure OpenAI and Azure SQL.')"
   ]
  },
  {
   "cell_type": "markdown",
   "id": "44b587aa",
   "metadata": {},
   "source": [
    "## Azure OpenAI configuration & reasoning models note\n",
    "- o-series/GPT-5 reasoning models using Chat Completions do not support temperature/top_p, etc.\n",
    "- We detect such deployments and call the REST API directly, omitting unsupported params."
   ]
  },
  {
   "cell_type": "code",
   "execution_count": 2,
   "id": "2aaeeb2d",
   "metadata": {},
   "outputs": [
    {
     "name": "stdout",
     "output_type": "stream",
     "text": [
      "Using reasoning style: True | Deployment: gpt-5\n",
      "LLM configured (None for reasoning models): True\n"
     ]
    }
   ],
   "source": [
    "# Azure OpenAI configuration\n",
    "API_KEY = os.getenv('AZURE_OPENAI_API_KEY')\n",
    "ENDPOINT = os.getenv('AZURE_OPENAI_ENDPOINT')\n",
    "DEPLOYMENT_NAME = os.getenv('AZURE_OPENAI_DEPLOYMENT_NAME')\n",
    "API_VERSION = os.getenv('AZURE_OPENAI_API_VERSION', '2025-04-01-preview')\n",
    "\n",
    "def _is_reasoning_like_model(deployment_name: str | None) -> bool:\n",
    "    name = (deployment_name or '').lower()\n",
    "    return name.startswith('o') or name.startswith('gpt-5')\n",
    "\n",
    "_USING_REASONING_STYLE = _is_reasoning_like_model(DEPLOYMENT_NAME)\n",
    "print('Using reasoning style:', _USING_REASONING_STYLE, '| Deployment:', DEPLOYMENT_NAME)\n",
    "\n",
    "# Direct Chat Completions for reasoning models (no temperature/top_p)\n",
    "import requests\n",
    "def _azure_chat_completions(messages: List[Dict[str, Any]], max_completion_tokens: int | None = None) -> str:\n",
    "    url = f\"{ENDPOINT.rstrip('/')}/openai/deployments/{DEPLOYMENT_NAME}/chat/completions?api-version={API_VERSION}\"\n",
    "    payload: Dict[str, Any] = {'messages': messages}\n",
    "    if max_completion_tokens is not None:\n",
    "        payload['max_completion_tokens'] = max_completion_tokens\n",
    "    headers = {'api-key': API_KEY or '', 'Content-Type': 'application/json'}\n",
    "    resp = requests.post(url, headers=headers, json=payload, timeout=60)\n",
    "    resp.raise_for_status()\n",
    "    data = resp.json()\n",
    "    return data['choices'][0]['message']['content']\n",
    "\n",
    "# LangChain wrapper for non-reasoning models\n",
    "def _make_llm():\n",
    "    if _USING_REASONING_STYLE:\n",
    "        return None\n",
    "    return AzureChatOpenAI(\n",
    "        openai_api_key=API_KEY,\n",
    "        azure_endpoint=ENDPOINT,\n",
    "        deployment_name=DEPLOYMENT_NAME,\n",
    "        api_version=API_VERSION,\n",
    "    )\n",
    "\n",
    "llm = _make_llm()\n",
    "print('LLM configured (None for reasoning models):', llm is None)"
   ]
  },
  {
   "cell_type": "markdown",
   "id": "368a986a",
   "metadata": {},
   "source": [
    "## Prompts and intent extraction (diagram: INTENT & ENTITIES)\n",
    "We maintain shared prompt text and pick the correct call-path (direct REST vs LangChain)."
   ]
  },
  {
   "cell_type": "code",
   "execution_count": 3,
   "id": "c1d4d8a3",
   "metadata": {},
   "outputs": [],
   "source": [
    "# Prompt text\n",
    "INTENT_PROMPT_TEXT = (\n",
    "    \"\"\"\n",
    "    You are an expert in translating natural language to database queries. Extract the intent and entities from the following user input:\n",
    "    {input}\n",
    "    \"\"\"\n",
    ")\n",
    "SQL_PROMPT_TEXT = (\n",
    "    \"\"\"\n",
    "    You are an expert in SQL and Azure SQL Database. Given the following database schema and the intent/entities, generate a valid T-SQL query for querying the database.\n",
    "\n",
    "    IMPORTANT:\n",
    "    - Do NOT use USE statements (USE [database] is not supported in Azure SQL Database)\n",
    "    - Generate only the SELECT query without USE or GO statements\n",
    "    - Return only executable T-SQL code without markdown formatting\n",
    "    - The database connection is already established to the correct database\n",
    "\n",
    "    Schema:\n",
    "    {schema}\n",
    "    Intent and Entities:\n",
    "    {intent_entities}\n",
    "\n",
    "    Generate a T-SQL query that can be executed directly:\n",
    "    \"\"\"\n",
    ")\n",
    "REASONING_PROMPT_TEXT = (\n",
    "    \"\"\"\n",
    "    You are assisting with SQL generation. Before writing SQL, produce a short, high-level reasoning summary\n",
    "    for how you will construct the query, based on the schema and the intent/entities.\n",
    "\n",
    "    Rules:\n",
    "    - Do NOT include any SQL code.\n",
    "    - Keep it concise (<= 150 words) and actionable.\n",
    "    - Use simple bullets covering: Entities mapping, Tables/Joins, Aggregations (if any), Filters, Order/Limit, Assumptions.\n",
    "\n",
    "    Schema:\n",
    "    {schema}\n",
    "    Intent and Entities:\n",
    "    {intent_entities}\n",
    "\n",
    "    Provide the reasoning summary now:\n",
    "    \"\"\"\n",
    ")\n",
    "\n",
    "# Templates for LangChain path\n",
    "intent_prompt = ChatPromptTemplate.from_template(INTENT_PROMPT_TEXT)\n",
    "sql_prompt = ChatPromptTemplate.from_template(SQL_PROMPT_TEXT)\n",
    "reasoning_prompt = ChatPromptTemplate.from_template(REASONING_PROMPT_TEXT)\n",
    "\n",
    "def parse_nl_query(user_input: str) -> str:\n",
    "    if _USING_REASONING_STYLE:\n",
    "        prompt_text = INTENT_PROMPT_TEXT.format(input=user_input)\n",
    "        messages = [{ 'role': 'user', 'content': prompt_text.strip() }]\n",
    "        return _azure_chat_completions(messages, max_completion_tokens=800)\n",
    "    chain = intent_prompt | llm\n",
    "    res = chain.invoke({'input': user_input})\n",
    "    return res.content"
   ]
  },
  {
   "cell_type": "markdown",
   "id": "e2700535",
   "metadata": {},
   "source": [
    "## Schema context & optional refresh (diagram: REFRESH SCHEMA branch)\n",
    "The schema context steers SQL generation to real tables/columns. Optionally refresh the cache."
   ]
  },
  {
   "cell_type": "code",
   "execution_count": 4,
   "id": "85e93827",
   "metadata": {},
   "outputs": [],
   "source": [
    "# Safe imports from this repository (resolve repo root even if running from docs/ or elsewhere)\n",
    "from pathlib import Path\n",
    "\n",
    "def _add_repo_root_to_sys_path(target_files=(\"schema_reader.py\",)) -> Path | None:\n",
    "    cwd = Path(os.getcwd()).resolve()\n",
    "    # Walk up up to 5 levels to find a dir containing any of target_files\n",
    "    for parent in [cwd] + list(cwd.parents)[:5]:\n",
    "        for fname in target_files:\n",
    "            if (parent / fname).exists():\n",
    "                parent_str = str(parent)\n",
    "                if parent_str not in sys.path:\n",
    "                    sys.path.insert(0, parent_str)\n",
    "                return parent\n",
    "    return None\n",
    "\n",
    "def _safe_import_schema_reader():\n",
    "    _add_repo_root_to_sys_path((\"schema_reader.py\", \"nl2sql_main.py\"))\n",
    "    try:\n",
    "        from schema_reader import get_sql_database_schema_context  # type: ignore\n",
    "        return get_sql_database_schema_context\n",
    "    except Exception as e:\n",
    "        raise ImportError('Unable to import get_sql_database_schema_context from schema_reader.') from e\n",
    "\n",
    "# Optional: refresh the schema cache\n",
    "REFRESH_SCHEMA = False  # <- toggle for your demo\n",
    "if REFRESH_SCHEMA:\n",
    "    try:\n",
    "        _add_repo_root_to_sys_path((\"schema_reader.py\",))\n",
    "        import schema_reader  # type: ignore\n",
    "        cache_path = schema_reader.refresh_schema_cache()\n",
    "        print('[INFO] Schema cache refreshed:', cache_path)\n",
    "    except Exception as e:\n",
    "        print('[WARN] Failed to refresh schema cache:', e)"
   ]
  },
  {
   "cell_type": "markdown",
   "id": "eab31005",
   "metadata": {},
   "source": [
    "## Reasoning summary (optional)\n",
    "Ask the model for a short plan before generating SQL (skippable in faster runs)."
   ]
  },
  {
   "cell_type": "code",
   "execution_count": 5,
   "id": "0ed5474a",
   "metadata": {},
   "outputs": [
    {
     "name": "stdout",
     "output_type": "stream",
     "text": [
      "INTENT & ENTITIES:\n",
      " {\n",
      "  \"intent\": \"get_loans\",\n",
      "  \"entities\": {\n",
      "    \"resource\": \"loans\",\n",
      "    \"limit\": 10,\n",
      "    \"order_by\": \"date\",\n",
      "    \"order_direction\": \"desc\",\n",
      "    \"filters\": {}\n",
      "  }\n",
      "} \n",
      "\n",
      "SQL GENERATION REASONING:\n",
      " - Entities mapping: “loans” → rows in dbo.vw_LoanPortfolio; “date” → OriginationDate (assumption).\n",
      "- Tables/Joins: Use dbo.vw_LoanPortfolio only (denormalized view); no joins needed since no collateral/schedule data requested.\n",
      "- Aggregations: None (simple list, no rollups or averages).\n",
      "- Filters: None specified; return all loans regardless of status, currency, region, etc.\n",
      "- Order/Limit: Sort by OriginationDate descending; limit to 10 records using TOP (10).\n",
      "- Assumptions:\n",
      "  - “date” means OriginationDate; if you intended MaturityDate or another date, adjust sort column accordingly.\n",
      "  - Return core portfolio fields available on the view (LoanId, LoanNumber, CompanyName, OriginationDate, MaturityDate, PrincipalAmount, CurrencyCode, InterestRatePct, Status, etc.). \n",
      "\n"
     ]
    }
   ],
   "source": [
    "def generate_reasoning(intent_entities: str) -> str:\n",
    "    get_schema_ctx = _safe_import_schema_reader()\n",
    "    schema = get_schema_ctx()\n",
    "    if _USING_REASONING_STYLE:\n",
    "        prompt_text = REASONING_PROMPT_TEXT.format(schema=schema, intent_entities=intent_entities)\n",
    "        messages = [{ 'role': 'user', 'content': prompt_text.strip() }]\n",
    "        return _azure_chat_completions(messages, max_completion_tokens=600)\n",
    "    chain = reasoning_prompt | llm\n",
    "    res = chain.invoke({'schema': schema, 'intent_entities': intent_entities})\n",
    "    return res.content\n",
    "\n",
    "# Demo variable (edit for your run)\n",
    "test_query = 'Show the 10 most recent loans'\n",
    "intent_entities = parse_nl_query(test_query)\n",
    "print('INTENT & ENTITIES:\\n', intent_entities, '\\n')\n",
    "\n",
    "SHOW_REASONING = True  # <- toggle for your demo\n",
    "if SHOW_REASONING:\n",
    "    reasoning = generate_reasoning(intent_entities)\n",
    "    print('SQL GENERATION REASONING:\\n', reasoning, '\\n')"
   ]
  },
  {
   "cell_type": "markdown",
   "id": "b91bfd98",
   "metadata": {},
   "source": [
    "## SQL generation (diagram: SQL GENERATION)\n",
    "Produce a T-SQL statement aligned with the extracted intent and schema context."
   ]
  },
  {
   "cell_type": "code",
   "execution_count": 6,
   "id": "ee6c18f8",
   "metadata": {},
   "outputs": [
    {
     "name": "stdout",
     "output_type": "stream",
     "text": [
      "GENERATED SQL (RAW):\n",
      " SELECT TOP (10)\n",
      "    LoanId,\n",
      "    LoanNumber,\n",
      "    CompanyName,\n",
      "    Industry,\n",
      "    CreditRating,\n",
      "    CountryName,\n",
      "    RegionName,\n",
      "    OriginationDate,\n",
      "    MaturityDate,\n",
      "    PrincipalAmount,\n",
      "    CurrencyCode,\n",
      "    InterestRatePct,\n",
      "    InterestRateType,\n",
      "    ReferenceRate,\n",
      "    SpreadBps,\n",
      "    AmortizationType,\n",
      "    PaymentFreqMonths,\n",
      "    Status,\n",
      "    Purpose\n",
      "FROM dbo.vw_LoanPortfolio\n",
      "ORDER BY OriginationDate DESC, LoanId DESC \n",
      "\n"
     ]
    }
   ],
   "source": [
    "def generate_sql(intent_entities: str) -> str:\n",
    "    get_schema_ctx = _safe_import_schema_reader()\n",
    "    schema = get_schema_ctx()\n",
    "    if _USING_REASONING_STYLE:\n",
    "        prompt_text = SQL_PROMPT_TEXT.format(schema=schema, intent_entities=intent_entities)\n",
    "        messages = [{ 'role': 'user', 'content': prompt_text.strip() }]\n",
    "        return _azure_chat_completions(messages, max_completion_tokens=1200)\n",
    "    chain = sql_prompt | llm\n",
    "    result = chain.invoke({'schema': schema, 'intent_entities': intent_entities})\n",
    "    return result.content\n",
    "\n",
    "raw_sql = generate_sql(intent_entities)\n",
    "print('GENERATED SQL (RAW):\\n', raw_sql, '\\n')"
   ]
  },
  {
   "cell_type": "markdown",
   "id": "a3506f4f",
   "metadata": {},
   "source": [
    "## SQL sanitization (diagram: SANITIZATION)\n",
    "Extract the SELECT code and normalize quotes for execution."
   ]
  },
  {
   "cell_type": "code",
   "execution_count": 7,
   "id": "2cff779a",
   "metadata": {},
   "outputs": [
    {
     "name": "stdout",
     "output_type": "stream",
     "text": [
      "SANITIZED SQL (FOR EXECUTION):\n",
      " SELECT TOP (10)\n",
      "    LoanId,\n",
      "    LoanNumber,\n",
      "    CompanyName,\n",
      "    Industry,\n",
      "    CreditRating,\n",
      "    CountryName,\n",
      "    RegionName,\n",
      "    OriginationDate,\n",
      "    MaturityDate,\n",
      "    PrincipalAmount,\n",
      "    CurrencyCode,\n",
      "    InterestRatePct,\n",
      "    InterestRateType,\n",
      "    ReferenceRate,\n",
      "    SpreadBps,\n",
      "    AmortizationType,\n",
      "    PaymentFreqMonths,\n",
      "    Status,\n",
      "    Purpose\n",
      "FROM dbo.vw_LoanPortfolio\n",
      "ORDER BY OriginationDate DESC, LoanId DESC \n",
      "\n"
     ]
    }
   ],
   "source": [
    "def extract_and_sanitize_sql(raw_sql: str) -> str:\n",
    "    sql_code = raw_sql\n",
    "    code_block = re.search(r\"```sql\\s*([\\s\\S]+?)```\", raw_sql, re.IGNORECASE)\n",
    "    if not code_block:\n",
    "        code_block = re.search(r\"```([\\s\\S]+?)```\", raw_sql)\n",
    "    if code_block:\n",
    "        sql_code = code_block.group(1).strip()\n",
    "    else:\n",
    "        select_match = re.search(r\"(SELECT[\\s\\S]+)\", raw_sql, re.IGNORECASE)\n",
    "        if select_match:\n",
    "            sql_code = select_match.group(1).strip()\n",
    "    return (\n",
    "        sql_code.replace('’', \"'\")\n",
    "                .replace('‘', \"'\")\n",
    "                .replace('“', '\"')\n",
    "                .replace('”', '\"')\n",
    "    )\n",
    "\n",
    "sql_to_run = extract_and_sanitize_sql(raw_sql)\n",
    "print('SANITIZED SQL (FOR EXECUTION):\\n', sql_to_run, '\\n')"
   ]
  },
  {
   "cell_type": "markdown",
   "id": "dae40479",
   "metadata": {},
   "source": [
    "## Execution (diagram: EXECUTION)\n",
    "Run the SQL against Azure SQL and format results (toggle NO_EXEC for dry runs)."
   ]
  },
  {
   "cell_type": "code",
   "execution_count": 8,
   "id": "1857bc55",
   "metadata": {},
   "outputs": [
    {
     "name": "stdout",
     "output_type": "stream",
     "text": [
      "[INFO] Execution skipped (NO_EXEC=True)\n"
     ]
    }
   ],
   "source": [
    "from pathlib import Path\n",
    "\n",
    "def _add_repo_root_to_sys_path_for_exec(target_files=(\"sql_executor.py\",)) -> Path | None:\n",
    "    cwd = Path(os.getcwd()).resolve()\n",
    "    for parent in [cwd] + list(cwd.parents)[:5]:\n",
    "        for fname in target_files:\n",
    "            if (parent / fname).exists():\n",
    "                parent_str = str(parent)\n",
    "                if parent_str not in sys.path:\n",
    "                    sys.path.insert(0, parent_str)\n",
    "                return parent\n",
    "    return None\n",
    "\n",
    "def _safe_import_sql_executor():\n",
    "    _add_repo_root_to_sys_path_for_exec((\"sql_executor.py\", \"nl2sql_main.py\"))\n",
    "    try:\n",
    "        from sql_executor import execute_sql_query  # type: ignore\n",
    "        return execute_sql_query\n",
    "    except Exception as e:\n",
    "        raise ImportError('Unable to import execute_sql_query from sql_executor.') from e\n",
    "\n",
    "def _format_table(rows):\n",
    "    if not rows:\n",
    "        return 'No results returned.\\n', []\n",
    "    columns = list(rows[0].keys())\n",
    "    col_widths = {c: max(len(c), max(len(str(r[c])) for r in rows)) for c in columns}\n",
    "    header = ' | '.join(c.ljust(col_widths[c]) for c in columns)\n",
    "    sep = '-+-'.join('-' * col_widths[c] for c in columns)\n",
    "    lines = [header, sep]\n",
    "    for r in rows:\n",
    "        lines.append(' | '.join(str(r[c]).ljust(col_widths[c]) for c in columns))\n",
    "    return (\n",
    "        '\\n'.join(lines) + '\\n',\n",
    "        [header, sep] + [' | '.join(str(r[c]).ljust(col_widths[c]) for c in columns) for r in rows]\n",
    "    )\n",
    "\n",
    "NO_EXEC = True  # <- toggle for your demo\n",
    "if not NO_EXEC:\n",
    "    try:\n",
    "        execute_sql_query = _safe_import_sql_executor()\n",
    "        rows = execute_sql_query(sql_to_run)\n",
    "        table_text, _ = _format_table(rows)\n",
    "        print('SQL QUERY RESULTS (TABLE):\\n' + table_text)\n",
    "    except Exception as e:\n",
    "        print('[ERROR] Failed to execute SQL query:', e)\n",
    "else:\n",
    "    print('[INFO] Execution skipped (NO_EXEC=True)')"
   ]
  },
  {
   "cell_type": "markdown",
   "id": "c0e7e810",
   "metadata": {},
   "source": [
    "## End-to-end runner cell (adjust toggles)\n",
    "Change `test_query`, `REFRESH_SCHEMA`, `SHOW_REASONING`, and `NO_EXEC` above and re-run cells.\n",
    "This cell illustrates the typical order: Input → Intent → (Reasoning) → SQL → Sanitize → (Execute)."
   ]
  },
  {
   "cell_type": "code",
   "execution_count": 9,
   "id": "abe0a511",
   "metadata": {},
   "outputs": [
    {
     "name": "stdout",
     "output_type": "stream",
     "text": [
      "INTENT & ENTITIES:\n",
      "  \n",
      "\n",
      "SQL GENERATION REASONING:\n",
      "  \n",
      "\n",
      "GENERATED SQL (RAW):\n",
      " SELECT TOP (100)\n",
      "    LoanId,\n",
      "    LoanNumber,\n",
      "    CompanyName,\n",
      "    Industry,\n",
      "    CreditRating,\n",
      "    CountryName,\n",
      "    RegionName,\n",
      "    OriginationDate,\n",
      "    MaturityDate,\n",
      "    PrincipalAmount,\n",
      "    CurrencyCode,\n",
      "    InterestRatePct,\n",
      "    InterestRateType,\n",
      "    ReferenceRate,\n",
      "    SpreadBps,\n",
      "    AmortizationType,\n",
      "    PaymentFreqMonths,\n",
      "    Status,\n",
      "    Purpose\n",
      "FROM dbo.vw_LoanPortfolio\n",
      "ORDER BY OriginationDate DESC, LoanId; \n",
      "\n",
      "SANITIZED SQL (FOR EXECUTION):\n",
      " SELECT TOP (100)\n",
      "    LoanId,\n",
      "    LoanNumber,\n",
      "    CompanyName,\n",
      "    Industry,\n",
      "    CreditRating,\n",
      "    CountryName,\n",
      "    RegionName,\n",
      "    OriginationDate,\n",
      "    MaturityDate,\n",
      "    PrincipalAmount,\n",
      "    CurrencyCode,\n",
      "    InterestRatePct,\n",
      "    InterestRateType,\n",
      "    ReferenceRate,\n",
      "    SpreadBps,\n",
      "    AmortizationType,\n",
      "    PaymentFreqMonths,\n",
      "    Status,\n",
      "    Purpose\n",
      "FROM dbo.vw_LoanPortfolio\n",
      "ORDER BY OriginationDate DESC, LoanId; \n",
      "\n",
      "[INFO] Execution skipped (NO_EXEC=True)\n"
     ]
    }
   ],
   "source": [
    "# Example: run the entire flow again with a different query\n",
    "test_query = 'For each region, list the top 5 companies by balance'\n",
    "intent_entities = parse_nl_query(test_query)\n",
    "print('INTENT & ENTITIES:\\n', intent_entities, '\\n')\n",
    "\n",
    "if SHOW_REASONING:\n",
    "    print('SQL GENERATION REASONING:\\n', generate_reasoning(intent_entities), '\\n')\n",
    "\n",
    "raw_sql = generate_sql(intent_entities)\n",
    "print('GENERATED SQL (RAW):\\n', raw_sql, '\\n')\n",
    "\n",
    "sql_to_run = extract_and_sanitize_sql(raw_sql)\n",
    "print('SANITIZED SQL (FOR EXECUTION):\\n', sql_to_run, '\\n')\n",
    "\n",
    "if not NO_EXEC:\n",
    "    try:\n",
    "        execute_sql_query = _safe_import_sql_executor()\n",
    "        rows = execute_sql_query(sql_to_run)\n",
    "        table_text, _ = _format_table(rows)\n",
    "        print('SQL QUERY RESULTS (TABLE):\\n' + table_text)\n",
    "    except Exception as e:\n",
    "        print('[ERROR] Failed to execute SQL query:', e)\n",
    "else:\n",
    "    print('[INFO] Execution skipped (NO_EXEC=True)')"
   ]
  },
  {
   "cell_type": "markdown",
   "id": "a3a7cdba",
   "metadata": {},
   "source": [
    "# NL→SQL Demo Notebook (Azure OpenAI + Azure SQL)\n",
    "\n",
    "This notebook demonstrates the NL→Intent→SQL pipeline step by step, aligned with the project's flowchart.\n",
    "Each step includes explanation cells for demo purposes (e.g., for a TERADATA partner presentation).\n",
    "\n",
    "Prereqs: ensure you have a valid .env configured for Azure OpenAI and Azure SQL (see README)."
   ]
  },
  {
   "cell_type": "code",
   "execution_count": 10,
   "id": "63f9edf1",
   "metadata": {},
   "outputs": [
    {
     "name": "stdout",
     "output_type": "stream",
     "text": [
      "Environment loaded. Project root: /Users/arturoquiroga/GITHUB/AQ-NEW-NL2SQL/docs\n"
     ]
    }
   ],
   "source": [
    "# 1) Imports and environment bootstrap\n",
    "import os, re, sys\n",
    "from typing import List, Dict, Any\n",
    "from dotenv import load_dotenv\n",
    "load_dotenv()\n",
    "print('Environment loaded. Project root:', os.getcwd())"
   ]
  },
  {
   "cell_type": "markdown",
   "id": "c42b81a0",
   "metadata": {},
   "source": [
    "## Azure OpenAI setup and model routing\n",
    "We detect reasoning-style deployments (o-series/GPT-5) and use direct REST Chat Completions without unsupported params.\n",
    "For other models, we use the LangChain AzureChatOpenAI wrapper."
   ]
  },
  {
   "cell_type": "code",
   "execution_count": 11,
   "id": "9a9a82d2",
   "metadata": {},
   "outputs": [
    {
     "name": "stdout",
     "output_type": "stream",
     "text": [
      "Reasoning-style deployment: True | Deployment: gpt-5\n",
      "LangChain LLM initialized: False\n"
     ]
    }
   ],
   "source": [
    "# 2) Azure OpenAI configuration & helpers\n",
    "import json, requests\n",
    "from langchain_openai import AzureChatOpenAI\n",
    "from langchain.prompts import ChatPromptTemplate\n",
    "\n",
    "API_KEY = os.getenv('AZURE_OPENAI_API_KEY')\n",
    "ENDPOINT = os.getenv('AZURE_OPENAI_ENDPOINT')\n",
    "DEPLOYMENT_NAME = os.getenv('AZURE_OPENAI_DEPLOYMENT_NAME')\n",
    "API_VERSION = os.getenv('AZURE_OPENAI_API_VERSION', '2025-04-01-preview')\n",
    "\n",
    "def _is_reasoning_like_model(deployment_name: str | None) -> bool:\n",
    "    name = (deployment_name or '').lower()\n",
    "    return name.startswith('o') or name.startswith('gpt-5')\n",
    "\n",
    "USING_REASONING = _is_reasoning_like_model(DEPLOYMENT_NAME)\n",
    "print('Reasoning-style deployment:', USING_REASONING, '| Deployment:', DEPLOYMENT_NAME)\n",
    "\n",
    "def _azure_chat_completions(messages: List[dict], max_completion_tokens: int | None = None) -> str:\n",
    "    url = f\"{ENDPOINT.rstrip('/')}/openai/deployments/{DEPLOYMENT_NAME}/chat/completions?api-version={API_VERSION}\"\n",
    "    payload: Dict[str, Any] = {'messages': messages}\n",
    "    if max_completion_tokens is not None:\n",
    "        payload['max_completion_tokens'] = max_completion_tokens\n",
    "    headers = {'api-key': API_KEY or '', 'Content-Type': 'application/json'}\n",
    "    resp = requests.post(url, headers=headers, json=payload, timeout=60)\n",
    "    resp.raise_for_status()\n",
    "    data = resp.json()\n",
    "    return data['choices'][0]['message']['content']\n",
    "\n",
    "def _make_llm():\n",
    "    if USING_REASONING:\n",
    "        return None\n",
    "    return AzureChatOpenAI(\n",
    "        openai_api_key=API_KEY,\n",
    "        azure_endpoint=ENDPOINT,\n",
    "        deployment_name=DEPLOYMENT_NAME,\n",
    "        api_version=API_VERSION,\n",
    "    )\n",
    "\n",
    "llm = _make_llm()\n",
    "print('LangChain LLM initialized:', llm is not None)"
   ]
  },
  {
   "cell_type": "markdown",
   "id": "be4eef46",
   "metadata": {},
   "source": [
    "## Prompts & function: Parse NL into intent/entities\n",
    "We keep prompt strings inline to mirror the main script."
   ]
  },
  {
   "cell_type": "code",
   "execution_count": 12,
   "id": "1374ca91",
   "metadata": {},
   "outputs": [
    {
     "name": "stdout",
     "output_type": "stream",
     "text": [
      "parse_nl_query ready.\n"
     ]
    }
   ],
   "source": [
    "# 3) Prompts and parsing function\n",
    "INTENT_PROMPT_TEXT = (\n",
    "    \"You are an expert in translating natural language to database queries.\\n\"\n",
    "    \"Extract the intent and entities from the following user input:\\n\"\n",
    "    \"{input}\"\n",
    ")\n",
    "SQL_PROMPT_TEXT = (\n",
    "    \"You are an expert in SQL and Azure SQL Database. Given the following database schema and the intent/entities,\\n\"\n",
    "    \"generate a valid T-SQL query for querying the database.\\n\\n\"\n",
    "    \"IMPORTANT:\\n\"\n",
    "    \"- Do NOT use USE statements (USE [database] is not supported in Azure SQL Database)\\n\"\n",
    "    \"- Generate only the SELECT query without USE or GO statements\\n\"\n",
    "    \"- Return only executable T-SQL code without markdown formatting\\n\"\n",
    "    \"- The database connection is already established to the correct database\\n\\n\"\n",
    "    \"Schema:\\n\"\n",
    "    \"{schema}\\n\"\n",
    "    \"Intent and Entities:\\n\"\n",
    "    \"{intent_entities}\\n\\n\"\n",
    "    \"Generate a T-SQL query that can be executed directly:\\n\"\n",
    ")\n",
    "REASONING_PROMPT_TEXT = (\n",
    "    \"Before writing SQL, produce a short, high-level reasoning summary for how you will construct the query,\\n\"\n",
    "    \"based on the schema and the intent/entities.\\n\\n\"\n",
    "    \"Rules:\\n\"\n",
    "    \"- Do NOT include any SQL code.\\n\"\n",
    "    \"- Keep it concise (<= 150 words) and actionable.\\n\"\n",
    "    \"- Use simple bullets covering: Entities mapping, Tables/Joins, Aggregations (if any), Filters, Order/Limit, Assumptions.\\n\\n\"\n",
    "    \"Schema:\\n\"\n",
    "    \"{schema}\\n\"\n",
    "    \"Intent and Entities:\\n\"\n",
    "    \"{intent_entities}\\n\\n\"\n",
    "    \"Provide the reasoning summary now:\\n\"\n",
    ")\n",
    "\n",
    "intent_prompt = ChatPromptTemplate.from_template(INTENT_PROMPT_TEXT)\n",
    "sql_prompt = ChatPromptTemplate.from_template(SQL_PROMPT_TEXT)\n",
    "reasoning_prompt = ChatPromptTemplate.from_template(REASONING_PROMPT_TEXT)\n",
    "\n",
    "def parse_nl_query(user_input: str) -> str:\n",
    "    if USING_REASONING:\n",
    "        prompt_text = INTENT_PROMPT_TEXT.format(input=user_input)\n",
    "        messages = [{ 'role': 'user', 'content': prompt_text.strip() }]\n",
    "        return _azure_chat_completions(messages, max_completion_tokens=800)\n",
    "    chain = intent_prompt | llm\n",
    "    res = chain.invoke({'input': user_input})\n",
    "    return res.content\n",
    "\n",
    "print('parse_nl_query ready.')"
   ]
  },
  {
   "cell_type": "markdown",
   "id": "a4d62ec2",
   "metadata": {},
   "source": [
    "## Schema context (with optional refresh)\n",
    "We use the local cache-backed context from `schema_reader.get_sql_database_schema_context`."
   ]
  },
  {
   "cell_type": "code",
   "execution_count": 13,
   "id": "bb3c29e2",
   "metadata": {},
   "outputs": [
    {
     "name": "stdout",
     "output_type": "stream",
     "text": [
      "[INFO] Schema cache refreshed at /Users/arturoquiroga/GITHUB/AQ-NEW-NL2SQL/DATABASE_SETUP/schema_cache.json\n",
      "DATABASE: CONTOSO-FI (Azure SQL)\n"
     ]
    }
   ],
   "source": [
    "# 4) Schema context helpers\n",
    "def _safe_import_schema_reader():\n",
    "    # add project root to path for relative imports while running from docs/\n",
    "    repo_root = os.path.dirname(os.getcwd()) if os.path.basename(os.getcwd()) == 'docs' else os.getcwd()\n",
    "    if repo_root not in sys.path:\n",
    "        sys.path.insert(0, repo_root)\n",
    "    try:\n",
    "        from schema_reader import get_sql_database_schema_context, refresh_schema_cache  # type: ignore\n",
    "        return get_sql_database_schema_context, refresh_schema_cache\n",
    "    except Exception as e:\n",
    "        raise ImportError('Unable to import schema helpers from schema_reader.py') from e\n",
    "\n",
    "REFRESH_SCHEMA = True  # toggle for demo\n",
    "get_schema_ctx, refresh_cache = _safe_import_schema_reader()\n",
    "if REFRESH_SCHEMA:\n",
    "    try:\n",
    "        path = refresh_cache()\n",
    "        print('[INFO] Schema cache refreshed at', path)\n",
    "    except Exception as e:\n",
    "        print('[WARN] Schema refresh failed:', e)\n",
    "\n",
    "schema_preview = get_schema_ctx()\n",
    "print(schema_preview.split('\\n')[0])  # first line only"
   ]
  },
  {
   "cell_type": "markdown",
   "id": "adfb4769",
   "metadata": {},
   "source": [
    "## Optional reasoning step\n",
    "Ask the model to outline a brief plan before SQL generation. Useful for transparency in demos."
   ]
  },
  {
   "cell_type": "code",
   "execution_count": 14,
   "id": "3fd523e7",
   "metadata": {},
   "outputs": [
    {
     "name": "stdout",
     "output_type": "stream",
     "text": [
      "INTENT ENTITIES: {\n",
      "  \"intent\": \"list_loans\",\n",
      "  \"entities\": {\n",
      "    \"object\": \"loans\",\n",
      "    \"limit\": 10,\n",
      "    \"sort\": {\n",
      "      \"by\": \"date\",\n",
      "      \"direction\": \"desc\",\n",
      "      \"semantic\": \"most_recent\"\n",
      "    },\n",
      "    \"filters\": [...\n",
      "REASONING:\n",
      " - Entities mapping: “loans” → use portfolio-level loan records.\n",
      "- Tables/Joins: Use dbo.vw_LoanPortfolio as the sole source (denormalized; no extra joins needed).\n",
      "- Aggregations: None (simple list).\n",
      "- Filters: None specified; include all loans as-is from the view.\n",
      "- Order/Limit: Sort by OriginationDate descending to get most recent; add a deterministic tie-breaker (e.g., LoanId desc). Limit to 10 rows.\n",
      "- Output fields: Include key identifiers and context (LoanId, LoanNumber, CompanyName, OriginationDate, MaturityDate, PrincipalAmount, CurrencyCode, Status).\n",
      "- Assumptions: “most_recent” refers to most recent OriginationDate; no status or region restrictions; dates are not null in the view.\n"
     ]
    }
   ],
   "source": [
    "# 5) Reasoning function\n",
    "def generate_reasoning(intent_entities: str) -> str:\n",
    "    schema = get_schema_ctx()\n",
    "    if USING_REASONING:\n",
    "        prompt_text = REASONING_PROMPT_TEXT.format(schema=schema, intent_entities=intent_entities)\n",
    "        messages = [{ 'role': 'user', 'content': prompt_text.strip() }]\n",
    "        return _azure_chat_completions(messages, max_completion_tokens=600)\n",
    "    chain = reasoning_prompt | llm\n",
    "    res = chain.invoke({'schema': schema, 'intent_entities': intent_entities})\n",
    "    return res.content\n",
    "\n",
    "SHOW_REASONING = True  # toggle for demo\n",
    "test_query = 'Show the 10 most recent loans'\n",
    "intent_entities = parse_nl_query(test_query)\n",
    "print('INTENT ENTITIES:', intent_entities[:200] + ('...' if len(intent_entities)>200 else ''))\n",
    "if SHOW_REASONING:\n",
    "    print('REASONING:\\n', generate_reasoning(intent_entities))"
   ]
  },
  {
   "cell_type": "markdown",
   "id": "abffc8fd",
   "metadata": {},
   "source": [
    "## SQL generation\n",
    "Generate T-SQL for the given intent/entities and schema context."
   ]
  },
  {
   "cell_type": "code",
   "execution_count": 15,
   "id": "dc085498",
   "metadata": {},
   "outputs": [
    {
     "name": "stdout",
     "output_type": "stream",
     "text": [
      "RAW SQL (truncated):\n",
      " SELECT TOP (10)\n",
      "    LoanId,\n",
      "    LoanNumber,\n",
      "    CompanyName,\n",
      "    Industry,\n",
      "    CreditRating,\n",
      "    CountryName,\n",
      "    RegionName,\n",
      "    OriginationDate,\n",
      "    MaturityDate,\n",
      "    PrincipalAmount,\n",
      "    CurrencyCode,\n",
      "    InterestRatePct,\n",
      "    InterestRateType,\n",
      "    ReferenceRate,\n",
      "    SpreadBps,\n",
      "    AmortizationType,\n",
      "    PaymentFreqMonths,\n",
      "    Status,\n",
      "    Purpose\n",
      "FROM dbo.vw_LoanPortfolio\n",
      "ORDER BY OriginationDate DESC, LoanId DESC\n"
     ]
    }
   ],
   "source": [
    "# 6) SQL generation function\n",
    "def generate_sql(intent_entities: str) -> str:\n",
    "    schema = get_schema_ctx()\n",
    "    if USING_REASONING:\n",
    "        prompt_text = SQL_PROMPT_TEXT.format(schema=schema, intent_entities=intent_entities)\n",
    "        messages = [{ 'role': 'user', 'content': prompt_text.strip() }]\n",
    "        return _azure_chat_completions(messages, max_completion_tokens=1200)\n",
    "    chain = sql_prompt | llm\n",
    "    result = chain.invoke({'schema': schema, 'intent_entities': intent_entities})\n",
    "    return result.content\n",
    "\n",
    "raw_sql = generate_sql(intent_entities)\n",
    "print('RAW SQL (truncated):\\n', (raw_sql[:500] + '...') if len(raw_sql)>500 else raw_sql)"
   ]
  },
  {
   "cell_type": "markdown",
   "id": "218955ba",
   "metadata": {},
   "source": [
    "## SQL sanitization\n",
    "Extract only the executable SQL portion and normalize quotes for safety."
   ]
  },
  {
   "cell_type": "code",
   "execution_count": 16,
   "id": "4440cce3",
   "metadata": {},
   "outputs": [
    {
     "name": "stdout",
     "output_type": "stream",
     "text": [
      "SANITIZED SQL:\n",
      " SELECT TOP (10)\n",
      "    LoanId,\n",
      "    LoanNumber,\n",
      "    CompanyName,\n",
      "    Industry,\n",
      "    CreditRating,\n",
      "    CountryName,\n",
      "    RegionName,\n",
      "    OriginationDate,\n",
      "    MaturityDate,\n",
      "    PrincipalAmount,\n",
      "    CurrencyCode,\n",
      "    InterestRatePct,\n",
      "    InterestRateType,\n",
      "    ReferenceRate,\n",
      "    SpreadBps,\n",
      "    AmortizationType,\n",
      "    PaymentFreqMonths,\n",
      "    Status,\n",
      "    Purpose\n",
      "FROM dbo.vw_LoanPortfolio\n",
      "ORDER BY OriginationDate DESC, LoanId DESC\n"
     ]
    }
   ],
   "source": [
    "# 7) SQL sanitization\n",
    "def extract_and_sanitize_sql(raw_sql: str) -> str:\n",
    "    sql_code = raw_sql\n",
    "    m = re.search(r\"```sql\\s*([\\s\\S]+?)```\", raw_sql, re.IGNORECASE)\n",
    "    if not m:\n",
    "        m = re.search(r\"```([\\s\\S]+?)```\", raw_sql)\n",
    "    if m:\n",
    "        sql_code = m.group(1).strip()\n",
    "    else:\n",
    "        m2 = re.search(r\"(SELECT[\\s\\S]+)\", raw_sql, re.IGNORECASE)\n",
    "        if m2:\n",
    "            sql_code = m2.group(1).strip()\n",
    "    return (sql_code\n",
    "            .replace('’', \"'\")\n",
    "            .replace('‘', \"'\")\n",
    "            .replace('“', '\"')\n",
    "            .replace('”', '\"'))\n",
    "\n",
    "sql_to_run = extract_and_sanitize_sql(raw_sql)\n",
    "print('SANITIZED SQL:\\n', sql_to_run)"
   ]
  },
  {
   "cell_type": "markdown",
   "id": "db1ae6a6",
   "metadata": {},
   "source": [
    "## Execution (optional)\n",
    "Use `sql_executor.execute_sql_query` to run against Azure SQL. Keep NO_EXEC=True for dry runs during demos."
   ]
  },
  {
   "cell_type": "code",
   "execution_count": 17,
   "id": "c5ab8278",
   "metadata": {},
   "outputs": [
    {
     "name": "stdout",
     "output_type": "stream",
     "text": [
      "RESULTS:\n",
      "LoanId | LoanNumber | CompanyName             | Industry        | CreditRating | CountryName    | RegionName | OriginationDate | MaturityDate | PrincipalAmount | CurrencyCode | InterestRatePct | InterestRateType | ReferenceRate | SpreadBps | AmortizationType | PaymentFreqMonths | Status | Purpose             \n",
      "-------+------------+-------------------------+-----------------+--------------+----------------+------------+-----------------+--------------+-----------------+--------------+-----------------+------------------+---------------+-----------+------------------+-------------------+--------+---------------------\n",
      "11     | AS-00004   | Singapore Data Centers  | Data Centers    | A            | Singapore      | Asia       | 2024-08-27      | 2029-08-27   | 22000000.00     | USD          | 3.900           | Floating         | SOFR          | 120       | Bullet           | 6                 | Active | Data Center Buildout\n",
      "10     | AS-00003   | Mumbai InfraTech Ltd    | Infrastructure  | BBB+         | India          | Asia       | 2024-08-27      | 2029-08-27   | 22000000.00     | INR          | 3.900           | Floating         | SOFR          | 120       | Bullet           | 6                 | Active | Data Center Buildout\n",
      "9      | AS-00002   | Shanghai GreenChem Co   | Chemicals       | BBB          | China          | Asia       | 2024-08-27      | 2029-08-27   | 22000000.00     | CNY          | 3.900           | Floating         | SOFR          | 120       | Bullet           | 6                 | Active | Data Center Buildout\n",
      "8      | AS-00001   | Osaka Precision K.K.    | Electronics     | A-           | Japan          | Asia       | 2024-08-27      | 2029-08-27   | 22000000.00     | JPY          | 3.900           | Floating         | TONA          | 120       | Bullet           | 6                 | Active | Data Center Buildout\n",
      "7      | EU-00004   | Amsterdam FinTech BV    | Technology      | A-           | Netherlands    | Europe     | 2023-08-27      | 2028-08-27   | 18000000.00     | EUR          | 4.750           | Floating         | EURIBOR       | 145       | Amortizing       | 6                 | Active | Working Capital     \n",
      "6      | EU-00003   | Thyme Retail Group      | Retail          | BBB-         | United Kingdom | Europe     | 2023-08-27      | 2028-08-27   | 18000000.00     | GBP          | 4.750           | Floating         | EURIBOR       | 145       | Amortizing       | 6                 | Active | Working Capital     \n",
      "5      | EU-00002   | Gaulois Pharma SA       | Pharmaceuticals | A            | France         | Europe     | 2023-08-27      | 2028-08-27   | 18000000.00     | EUR          | 4.750           | Floating         | EURIBOR       | 145       | Amortizing       | 6                 | Active | Working Capital     \n",
      "4      | EU-00001   | Nordwind Logistics GmbH | Logistics       | BBB          | Germany        | Europe     | 2023-08-27      | 2028-08-27   | 18000000.00     | EUR          | 4.750           | Floating         | EURIBOR       | 145       | Amortizing       | 6                 | Active | Working Capital     \n",
      "3      | US-00002   | Toronto Health Devices  | Medical Devices | BBB+         | Canada         | Americas   | 2022-08-27      | 2027-08-27   | 25000000.00     | USD          | 6.250           | Floating         | SOFR          | 185       | Amortizing       | 3                 | Active | Capex Expansion     \n",
      "2      | US-00001   | Blue Ridge Energy Corp  | Energy          | A-           | United States  | Americas   | 2022-08-27      | 2027-08-27   | 25000000.00     | USD          | 6.250           | Floating         | SOFR          | 185       | Amortizing       | 3                 | Active | Capex Expansion     \n",
      "\n"
     ]
    }
   ],
   "source": [
    "# 8) SQL execution helpers\n",
    "def _safe_import_sql_executor():\n",
    "    repo_root = os.path.dirname(os.getcwd()) if os.path.basename(os.getcwd()) == 'docs' else os.getcwd()\n",
    "    if repo_root not in sys.path:\n",
    "        sys.path.insert(0, repo_root)\n",
    "    try:\n",
    "        from sql_executor import execute_sql_query  # type: ignore\n",
    "        return execute_sql_query\n",
    "    except Exception as e:\n",
    "        raise ImportError('Unable to import execute_sql_query from sql_executor.py') from e\n",
    "\n",
    "def _format_table(rows):\n",
    "    if not rows:\n",
    "        return 'No results returned.\\n', []\n",
    "    columns = list(rows[0].keys())\n",
    "    col_widths = {c: max(len(c), max(len(str(r[c])) for r in rows)) for c in columns}\n",
    "    header = ' | '.join(c.ljust(col_widths[c]) for c in columns)\n",
    "    sep = '-+-'.join('-' * col_widths[c] for c in columns)\n",
    "    lines = [header, sep]\n",
    "    for r in rows:\n",
    "        lines.append(' | '.join(str(r[c]).ljust(col_widths[c]) for c in columns))\n",
    "    return ('\\n'.join(lines) + '\\n', [header, sep] + [' | '.join(str(r[c]).ljust(col_widths[c]) for c in columns) for r in rows])\n",
    "\n",
    "NO_EXEC = False  # toggle\n",
    "if not NO_EXEC:\n",
    "    try:\n",
    "        execute_sql_query = _safe_import_sql_executor()\n",
    "        rows = execute_sql_query(sql_to_run)\n",
    "        table_text, _ = _format_table(rows)\n",
    "        print('RESULTS:\\n' + table_text)\n",
    "    except Exception as e:\n",
    "        print('[ERROR] Query failed:', e)\n",
    "else:\n",
    "    print('[INFO] Execution skipped (NO_EXEC=True)')"
   ]
  },
  {
   "cell_type": "markdown",
   "id": "13e42e9f",
   "metadata": {},
   "source": [
    "## End-to-end demo cell\n",
    "Update toggles (`REFRESH_SCHEMA`, `SHOW_REASONING`, `NO_EXEC`) and `test_query` above as needed.\n",
    "Run this cell to repeat the flow with a different question."
   ]
  },
  {
   "cell_type": "code",
   "execution_count": 18,
   "id": "ccc69c54",
   "metadata": {},
   "outputs": [
    {
     "name": "stdout",
     "output_type": "stream",
     "text": [
      "INTENT ENTITIES: {\n",
      "  \"intent\": \"compute_weighted_average\",\n",
      "  \"description\": \"Calculate the weighted average interest rate grouped by region.\",\n",
      "  \"entities\": {\n",
      "    \"metric\": \"interest_rate\",\n",
      "    \"aggregation\": \"weighte...\n",
      "REASONING:\n",
      " \n",
      "RAW SQL (truncated):\n",
      " \n",
      "SANITIZED SQL:\n",
      " \n",
      "[ERROR] Query failed: ('HY090', '[HY090] [unixODBC][Driver Manager]Invalid string or buffer length (0) (SQLExecDirectW)')\n"
     ]
    }
   ],
   "source": [
    "# 9) Rerun flow with another question\n",
    "test_query = 'Weighted average interest rate by region'\n",
    "intent_entities = parse_nl_query(test_query)\n",
    "print('INTENT ENTITIES:', intent_entities[:200] + ('...' if len(intent_entities)>200 else ''))\n",
    "if SHOW_REASONING:\n",
    "    print('REASONING:\\n', generate_reasoning(intent_entities))\n",
    "raw_sql = generate_sql(intent_entities)\n",
    "print('RAW SQL (truncated):\\n', (raw_sql[:500] + '...') if len(raw_sql)>500 else raw_sql)\n",
    "sql_to_run = extract_and_sanitize_sql(raw_sql)\n",
    "print('SANITIZED SQL:\\n', sql_to_run)\n",
    "if not NO_EXEC:\n",
    "    try:\n",
    "        execute_sql_query = _safe_import_sql_executor()\n",
    "        rows = execute_sql_query(sql_to_run)\n",
    "        table_text, _ = _format_table(rows)\n",
    "        print('RESULTS:\\n' + table_text)\n",
    "    except Exception as e:\n",
    "        print('[ERROR] Query failed:', e)\n",
    "else:\n",
    "    print('[INFO] Execution skipped (NO_EXEC=True)')"
   ]
  }
 ],
 "metadata": {
  "kernelspec": {
   "display_name": ".venv (3.13.7)",
   "language": "python",
   "name": "python3"
  },
  "language_info": {
   "codemirror_mode": {
    "name": "ipython",
    "version": 3
   },
   "file_extension": ".py",
   "mimetype": "text/x-python",
   "name": "python",
   "nbconvert_exporter": "python",
   "pygments_lexer": "ipython3",
   "version": "3.13.7"
  }
 },
 "nbformat": 4,
 "nbformat_minor": 5
}
