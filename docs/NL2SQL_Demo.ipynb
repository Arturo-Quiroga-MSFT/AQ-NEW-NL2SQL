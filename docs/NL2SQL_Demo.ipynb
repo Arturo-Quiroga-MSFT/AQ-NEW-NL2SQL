{
 "cells": [
  {
   "cell_type": "markdown",
   "id": "373db31a",
   "metadata": {},
   "source": [
    "# NL→SQL Demo Notebook (Azure OpenAI + Azure SQL)\n",
    "\n",
    "This notebook demonstrates the NL→Intent→SQL pipeline step by step, aligned with the project's flowchart.\n",
    "Each step includes explanation cells for demo purposes (e.g., for a TERADATA partner presentation).\n",
    "\n",
    "Prereqs: ensure you have a valid .env configured for Azure OpenAI and Azure SQL (see README)."
   ]
  },
  {
   "cell_type": "code",
   "execution_count": 1,
   "id": "63f9edf1",
   "metadata": {},
   "outputs": [
    {
     "name": "stdout",
     "output_type": "stream",
     "text": [
      "Environment loaded. Project root: /Users/arturoquiroga/GITHUB/AQ-NEW-NL2SQL/docs\n"
     ]
    }
   ],
   "source": [
    "# 1) Imports and environment bootstrap\n",
    "import os, re, sys\n",
    "from typing import List, Dict, Any\n",
    "from dotenv import load_dotenv\n",
    "load_dotenv()\n",
    "print('Environment loaded. Project root:', os.getcwd())"
   ]
  },
  {
   "cell_type": "markdown",
   "id": "b8fd547a",
   "metadata": {},
   "source": [
    "## Demo settings (global)\n",
    "\n",
    "- Control printing and execution across the notebook from one place.\n",
    "- You can still override the query text in runner cells if needed."
   ]
  },
  {
   "cell_type": "code",
   "execution_count": 2,
   "id": "c74443d8",
   "metadata": {},
   "outputs": [
    {
     "name": "stdout",
     "output_type": "stream",
     "text": [
      "Demo settings -> SHOW_INTENT: True | SHOW_REASONING: True | NO_EXEC: False | REFRESH_SCHEMA: False\n"
     ]
    }
   ],
   "source": [
    "# Demo settings (global)\n",
    "# These control printing and execution across the notebook.\n",
    "SHOW_INTENT = True\n",
    "SHOW_REASONING = True\n",
    "NO_EXEC = False\n",
    "REFRESH_SCHEMA = False\n",
    "\n",
    "# Default query used by runner cells unless overridden\n",
    "default_test_query = 'Weighted average interest rate by region'\n",
    "print('Demo settings -> SHOW_INTENT:', SHOW_INTENT, '| SHOW_REASONING:', SHOW_REASONING, '| NO_EXEC:', NO_EXEC, '| REFRESH_SCHEMA:', REFRESH_SCHEMA)"
   ]
  },
  {
   "cell_type": "markdown",
   "id": "06c570b3",
   "metadata": {},
   "source": [
    "### Display Helpers"
   ]
  },
  {
   "cell_type": "code",
   "execution_count": 3,
   "id": "8b5ed898",
   "metadata": {},
   "outputs": [],
   "source": [
    "# Display helpers (ANSI colors for sectioned output)\n",
    "RESET = \"\\033[0m\"\n",
    "YELLOW = \"\\033[33m\"           # intent\n",
    "LIGHT_BLUE = \"\\033[96m\"       # reasoning (bright cyan)\n",
    "WHITE = \"\\033[97m\"            # raw sql\n",
    "GRAY = \"\\033[90m\"             # legacy dark gray (not used for sanitized anymore)\n",
    "LIGHT_GRAY = \"\\033[38;5;250m\" # sanitized sql (lighter and more readable)\n",
    "GOLD = \"\\033[38;5;220m\"      # results (approx gold)\n",
    "\n",
    "def colorize(text: str, color: str) -> str:\n",
    "    return f\"{color}{text}{RESET}\"\n",
    "\n",
    "def print_colored_block(label: str, content: str, color: str, sep: str = \"\\n\") -> None:\n",
    "    block = f\"{label}{sep}{content}\" if content is not None else label\n",
    "    print(colorize(block, color))\n",
    "    print()  # extra blank line for spacing between output blocks"
   ]
  },
  {
   "cell_type": "markdown",
   "id": "c42b81a0",
   "metadata": {},
   "source": [
    "## Azure OpenAI setup and model routing\n",
    "We detect reasoning-style deployments (o-series/GPT-5) and use direct REST Chat Completions without unsupported params.\n",
    "For other models, we use the LangChain AzureChatOpenAI wrapper."
   ]
  },
  {
   "cell_type": "code",
   "execution_count": 4,
   "id": "9a9a82d2",
   "metadata": {},
   "outputs": [
    {
     "name": "stdout",
     "output_type": "stream",
     "text": [
      "Reasoning-style deployment: True | Deployment: gpt-5\n",
      "LangChain LLM initialized: False\n"
     ]
    }
   ],
   "source": [
    "# 2) Azure OpenAI configuration & helpers\n",
    "import json, requests\n",
    "from langchain_openai import AzureChatOpenAI\n",
    "from langchain.prompts import ChatPromptTemplate\n",
    "\n",
    "API_KEY = os.getenv('AZURE_OPENAI_API_KEY')\n",
    "ENDPOINT = os.getenv('AZURE_OPENAI_ENDPOINT')\n",
    "DEPLOYMENT_NAME = os.getenv('AZURE_OPENAI_DEPLOYMENT_NAME')\n",
    "API_VERSION = os.getenv('AZURE_OPENAI_API_VERSION', '2025-04-01-preview')\n",
    "\n",
    "def _is_reasoning_like_model(deployment_name: str | None) -> bool:\n",
    "    name = (deployment_name or '').lower()\n",
    "    return name.startswith('o') or name.startswith('gpt-5')\n",
    "\n",
    "USING_REASONING = _is_reasoning_like_model(DEPLOYMENT_NAME)\n",
    "print('Reasoning-style deployment:', USING_REASONING, '| Deployment:', DEPLOYMENT_NAME)\n",
    "\n",
    "def _azure_chat_completions(messages: List[dict], max_completion_tokens: int | None = None) -> str:\n",
    "    url = f\"{ENDPOINT.rstrip('/')}/openai/deployments/{DEPLOYMENT_NAME}/chat/completions?api-version={API_VERSION}\"\n",
    "    payload: Dict[str, Any] = {'messages': messages}\n",
    "    if max_completion_tokens is not None:\n",
    "        payload['max_completion_tokens'] = max_completion_tokens\n",
    "    headers = {'api-key': API_KEY or '', 'Content-Type': 'application/json'}\n",
    "    resp = requests.post(url, headers=headers, json=payload, timeout=60)\n",
    "    resp.raise_for_status()\n",
    "    data = resp.json()\n",
    "    return data['choices'][0]['message']['content']\n",
    "\n",
    "def _make_llm():\n",
    "    if USING_REASONING:\n",
    "        return None\n",
    "    return AzureChatOpenAI(\n",
    "        openai_api_key=API_KEY,\n",
    "        azure_endpoint=ENDPOINT,\n",
    "        deployment_name=DEPLOYMENT_NAME,\n",
    "        api_version=API_VERSION,\n",
    "        max_tokens=8192,\n",
    "    )\n",
    "\n",
    "llm = _make_llm()\n",
    "print('LangChain LLM initialized:', llm is not None)"
   ]
  },
  {
   "cell_type": "markdown",
   "id": "be4eef46",
   "metadata": {},
   "source": [
    "## Prompts & function: Parse NL into intent/entities\n",
    "We keep prompt strings inline to mirror the main script."
   ]
  },
  {
   "cell_type": "code",
   "execution_count": 5,
   "id": "1374ca91",
   "metadata": {},
   "outputs": [
    {
     "name": "stdout",
     "output_type": "stream",
     "text": [
      "parse_nl_query ready.\n"
     ]
    }
   ],
   "source": [
    "# 3) Prompts and parsing function\n",
    "INTENT_PROMPT_TEXT = (\n",
    "    \"You are an expert in translating natural language to database queries.\\n\"\n",
    "    \"Extract the intent and entities from the following user input:\\n\"\n",
    "    \"{input}\"\n",
    ")\n",
    "SQL_PROMPT_TEXT = (\n",
    "    \"You are an expert in SQL and Azure SQL Database. Given the following database schema and the intent/entities,\\n\"\n",
    "    \"generate a valid T-SQL query for querying the database.\\n\\n\"\n",
    "    \"IMPORTANT:\\n\"\n",
    "    \"- Do NOT use USE statements (USE [database] is not supported in Azure SQL Database)\\n\"\n",
    "    \"- Generate only the SELECT query without USE or GO statements\\n\"\n",
    "    \"- Return only executable T-SQL code without markdown formatting\\n\"\n",
    "    \"- The database connection is already established to the correct database\\n\\n\"\n",
    "    \"Schema:\\n\"\n",
    "    \"{schema}\\n\"\n",
    "    \"Intent and Entities:\\n\"\n",
    "    \"{intent_entities}\\n\\n\"\n",
    "    \"Generate a T-SQL query that can be executed directly:\\n\"\n",
    ")\n",
    "REASONING_PROMPT_TEXT = (\n",
    "    \"Before writing SQL, produce a short, high-level reasoning summary for how you will construct the query,\\n\"\n",
    "    \"based on the schema and the intent/entities.\\n\\n\"\n",
    "    \"Rules:\\n\"\n",
    "    \"- Do NOT include any SQL code.\\n\"\n",
    "    \"- Keep it concise (<= 150 words) and actionable.\\n\"\n",
    "    \"- Use simple bullets covering: Entities mapping, Tables/Joins, Aggregations (if any), Filters, Order/Limit, Assumptions.\\n\\n\"\n",
    "    \"Schema:\\n\"\n",
    "    \"{schema}\\n\"\n",
    "    \"Intent and Entities:\\n\"\n",
    "    \"{intent_entities}\\n\\n\"\n",
    "    \"Provide the reasoning summary now:\\n\"\n",
    ")\n",
    "\n",
    "intent_prompt = ChatPromptTemplate.from_template(INTENT_PROMPT_TEXT)\n",
    "sql_prompt = ChatPromptTemplate.from_template(SQL_PROMPT_TEXT)\n",
    "reasoning_prompt = ChatPromptTemplate.from_template(REASONING_PROMPT_TEXT)\n",
    "\n",
    "def parse_nl_query(user_input: str) -> str:\n",
    "    if USING_REASONING:\n",
    "        prompt_text = INTENT_PROMPT_TEXT.format(input=user_input)\n",
    "        messages = [{ 'role': 'user', 'content': prompt_text.strip() }]\n",
    "        return _azure_chat_completions(messages, max_completion_tokens=8192)\n",
    "    chain = intent_prompt | llm\n",
    "    res = chain.invoke({'input': user_input})\n",
    "    return res.content\n",
    "\n",
    "print('parse_nl_query ready.')"
   ]
  },
  {
   "cell_type": "markdown",
   "id": "a4d62ec2",
   "metadata": {},
   "source": [
    "## Schema context (with optional refresh)\n",
    "We use the local cache-backed context from `schema_reader.get_sql_database_schema_context`."
   ]
  },
  {
   "cell_type": "code",
   "execution_count": 6,
   "id": "bb3c29e2",
   "metadata": {},
   "outputs": [
    {
     "name": "stdout",
     "output_type": "stream",
     "text": [
      "DATABASE: CONTOSO-FI (Azure SQL)\n"
     ]
    }
   ],
   "source": [
    "# 4) Schema context helpers\n",
    "\n",
    "def _safe_import_schema_reader():\n",
    "    # add project root to path for relative imports while running from docs/\n",
    "    repo_root = os.path.dirname(os.getcwd()) if os.path.basename(os.getcwd()) == 'docs' else os.getcwd()\n",
    "    if repo_root not in sys.path:\n",
    "        sys.path.insert(0, repo_root)\n",
    "    try:\n",
    "        from schema_reader import get_sql_database_schema_context, refresh_schema_cache  # type: ignore\n",
    "        return get_sql_database_schema_context, refresh_schema_cache\n",
    "    except Exception as e:\n",
    "        raise ImportError('Unable to import schema helpers from schema_reader.py') from e\n",
    "\n",
    "get_schema_ctx, refresh_cache = _safe_import_schema_reader()\n",
    "if REFRESH_SCHEMA:\n",
    "    try:\n",
    "        path = refresh_cache()\n",
    "        print('[INFO] Schema cache refreshed at', path)\n",
    "    except Exception as e:\n",
    "        print('[WARN] Schema refresh failed:', e)\n",
    "\n",
    "schema_preview = get_schema_ctx()\n",
    "print(schema_preview.split('\\n')[0])  # first line only"
   ]
  },
  {
   "cell_type": "markdown",
   "id": "adfb4769",
   "metadata": {},
   "source": [
    "## Optional reasoning step\n",
    "Ask the model to outline a brief plan before SQL generation. Useful for transparency in demos."
   ]
  },
  {
   "cell_type": "code",
   "execution_count": 7,
   "id": "3fd523e7",
   "metadata": {},
   "outputs": [],
   "source": [
    "# 5) Reasoning function\n",
    "\n",
    "def generate_reasoning(intent_entities: str) -> str:\n",
    "    schema = get_schema_ctx()\n",
    "    if USING_REASONING:\n",
    "        prompt_text = REASONING_PROMPT_TEXT.format(schema=schema, intent_entities=intent_entities)\n",
    "        messages = [{ 'role': 'user', 'content': prompt_text.strip() }]\n",
    "        return _azure_chat_completions(messages, max_completion_tokens=8192)\n",
    "    chain = reasoning_prompt | llm\n",
    "    res = chain.invoke({'schema': schema, 'intent_entities': intent_entities})\n",
    "    return res.content"
   ]
  },
  {
   "cell_type": "markdown",
   "id": "abffc8fd",
   "metadata": {},
   "source": [
    "## SQL generation\n",
    "Generate T-SQL for the given intent/entities and schema context."
   ]
  },
  {
   "cell_type": "code",
   "execution_count": 8,
   "id": "dc085498",
   "metadata": {},
   "outputs": [],
   "source": [
    "# 6) SQL generation function\n",
    "\n",
    "def generate_sql(intent_entities: str) -> str:\n",
    "    schema = get_schema_ctx()\n",
    "    if USING_REASONING:\n",
    "        prompt_text = SQL_PROMPT_TEXT.format(schema=schema, intent_entities=intent_entities)\n",
    "        messages = [{ 'role': 'user', 'content': prompt_text.strip() }]\n",
    "        return _azure_chat_completions(messages, max_completion_tokens=8192)\n",
    "    chain = sql_prompt | llm\n",
    "    result = chain.invoke({'schema': schema, 'intent_entities': intent_entities})\n",
    "    return result.content"
   ]
  },
  {
   "cell_type": "markdown",
   "id": "218955ba",
   "metadata": {},
   "source": [
    "## SQL sanitization\n",
    "Extract only the executable SQL portion and normalize quotes for safety."
   ]
  },
  {
   "cell_type": "code",
   "execution_count": null,
   "id": "4440cce3",
   "metadata": {},
   "outputs": [],
   "source": [
    "# 7) SQL sanitization\n",
    "\n",
    "def extract_and_sanitize_sql(raw_sql: str) -> str:\n",
    "    sql_code = raw_sql\n",
    "    # Prefer fenced code blocks if present (captures full content, e.g., WITH ...)\n",
    "    m = re.search(r\"```sql\\s*([\\s\\S]+?)```\", raw_sql, re.IGNORECASE)\n",
    "    if not m:\n",
    "        m = re.search(r\"```([\\s\\S]+?)```\", raw_sql)\n",
    "    if m:\n",
    "        sql_code = m.group(1).strip()\n",
    "    else:\n",
    "        # If a CTE exists, start from WITH to capture the entire statement\n",
    "        with_m = re.search(r\"(?is)\\bWITH\\b\\s+[A-Za-z0-9_\\[\\]]+\\s+AS\\s*\\(\", raw_sql)\n",
    "        if with_m:\n",
    "            sql_code = raw_sql[with_m.start():].strip()\n",
    "        else:\n",
    "            # Fallback to first SELECT\n",
    "            m2 = re.search(r\"(?is)\\bSELECT\\b[\\s\\S]+\", raw_sql)\n",
    "            if m2:\n",
    "                sql_code = m2.group(0).strip()\n",
    "            else:\n",
    "                sql_code = raw_sql.strip()\n",
    "    return (sql_code\n",
    "            .replace('’', \"'\")\n",
    "            .replace('‘', \"'\")\n",
    "            .replace('“', '\"')\n",
    "            .replace('”', '\"'))"
   ]
  },
  {
   "cell_type": "markdown",
   "id": "db1ae6a6",
   "metadata": {},
   "source": [
    "## Execution (optional)\n",
    "Use `sql_executor.execute_sql_query` to run against Azure SQL. Keep NO_EXEC=True for dry runs during demos."
   ]
  },
  {
   "cell_type": "code",
   "execution_count": 10,
   "id": "c5ab8278",
   "metadata": {},
   "outputs": [],
   "source": [
    "# 8) SQL execution helpers (definitions only)\n",
    "\n",
    "def _safe_import_sql_executor():\n",
    "    repo_root = os.path.dirname(os.getcwd()) if os.path.basename(os.getcwd()) == 'docs' else os.getcwd()\n",
    "    if repo_root not in sys.path:\n",
    "        sys.path.insert(0, repo_root)\n",
    "    try:\n",
    "        from sql_executor import execute_sql_query  # type: ignore\n",
    "        return execute_sql_query\n",
    "    except Exception as e:\n",
    "        raise ImportError('Unable to import execute_sql_query from sql_executor.py') from e\n",
    "\n",
    "\n",
    "def _format_table(rows):\n",
    "    if not rows:\n",
    "        return 'No results returned.\\n', []\n",
    "    columns = list(rows[0].keys())\n",
    "    col_widths = {c: max(len(c), max(len(str(r[c])) for r in rows)) for c in columns}\n",
    "    header = ' | '.join(c.ljust(col_widths[c]) for c in columns)\n",
    "    sep = '-+-'.join('-' * col_widths[c] for c in columns)\n",
    "    lines = [header, sep]\n",
    "    for r in rows:\n",
    "        lines.append(' | '.join(str(r[c]).ljust(col_widths[c]) for c in columns))\n",
    "    return ('\\n'.join(lines) + '\\n', [header, sep] + [' | '.join(str(r[c]).ljust(col_widths[c]) for c in columns) for r in rows])\n",
    "\n",
    "# Note: Execution is controlled by the global NO_EXEC flag in the Demo settings cell.\n",
    "# This cell only defines helpers; the end-to-end runner performs the actual execution."
   ]
  },
  {
   "cell_type": "markdown",
   "id": "13e42e9f",
   "metadata": {},
   "source": [
    "## End-to-end demo cell\n",
    "Update toggles (`REFRESH_SCHEMA`, `SHOW_REASONING`, `NO_EXEC`) and `test_query` above as needed.\n",
    "Run this cell to repeat the flow with a different question."
   ]
  },
  {
   "cell_type": "code",
   "execution_count": null,
   "id": "ccc69c54",
   "metadata": {},
   "outputs": [
    {
     "name": "stdout",
     "output_type": "stream",
     "text": [
      "\u001b[33mINTENT ENTITIES:\n",
      "{\n",
      "  \"intent\": \"aggregate_metric\",\n",
      "  \"aggregation\": \"weighted_average\",\n",
      "  \"metric\": \"interest rate\",\n",
      "  \"group_by\": [\"region\"],\n",
      "  \"filters\": [],\n",
      "  \"time_range\": null,\n",
      "  \"weight_field\": null\n",
      "}\u001b[0m\n",
      "\n",
      "\u001b[96mREASONING:\n",
      "- Entities mapping: interest rate → vw_LoanPortfolio.InterestRatePct; region → vw_LoanPortfolio.RegionName; weight → vw_LoanPortfolio.PrincipalAmount.\n",
      "- Tables/Joins: Use dbo.vw_LoanPortfolio only (no joins needed).\n",
      "- Aggregations: Compute weighted average interest rate per region as sum(InterestRatePct * PrincipalAmount) / sum(PrincipalAmount). Guard against divide-by-zero and exclude NULL InterestRatePct.\n",
      "- Filters: None requested; exclude rows with NULL or non-positive PrincipalAmount to ensure valid weighting.\n",
      "- Order/Limit: Order by RegionName ascending; no limit.\n",
      "- Assumptions: Include all loans regardless of Status unless directed otherwise (can filter to active/open if needed). InterestRatePct is in percentage points and does not require currency conversion.\u001b[0m\n",
      "\n",
      "\u001b[97mRAW SQL (truncated):\n",
      "SELECT\n",
      "    vp.RegionName,\n",
      "    CAST(SUM(CASE WHEN vp.InterestRatePct IS NOT NULL AND vp.PrincipalAmount IS NOT NULL THEN vp.InterestRatePct * vp.PrincipalAmount ELSE 0 END) AS decimal(38,10))\n",
      "    / NULLIF(CAST(SUM(CASE WHEN vp.InterestRatePct IS NOT NULL AND vp.PrincipalAmount IS NOT NULL THEN vp.PrincipalAmount ELSE 0 END) AS decimal(38,10)), 0) AS WeightedAvgInterestRatePct\n",
      "FROM dbo.vw_LoanPortfolio AS vp\n",
      "GROUP BY vp.RegionName\n",
      "ORDER BY vp.RegionName\u001b[0m\n",
      "\n",
      "\u001b[38;5;250mSANITIZED SQL:\n",
      "SELECT\n",
      "    vp.RegionName,\n",
      "    CAST(SUM(CASE WHEN vp.InterestRatePct IS NOT NULL AND vp.PrincipalAmount IS NOT NULL THEN vp.InterestRatePct * vp.PrincipalAmount ELSE 0 END) AS decimal(38,10))\n",
      "    / NULLIF(CAST(SUM(CASE WHEN vp.InterestRatePct IS NOT NULL AND vp.PrincipalAmount IS NOT NULL THEN vp.PrincipalAmount ELSE 0 END) AS decimal(38,10)), 0) AS WeightedAvgInterestRatePct\n",
      "FROM dbo.vw_LoanPortfolio AS vp\n",
      "GROUP BY vp.RegionName\n",
      "ORDER BY vp.RegionName\u001b[0m\n",
      "\n",
      "\u001b[38;5;220mRESULTS:\n",
      "RegionName | WeightedAvgInterestRatePct\n",
      "-----------+---------------------------\n",
      "Africa     | 9.500000                  \n",
      "Americas   | 6.166666                  \n",
      "Asia       | 3.900000                  \n",
      "Europe     | 4.750000                  \n",
      "\u001b[0m\n",
      "\n"
     ]
    }
   ],
   "source": [
    "# 9) Rerun flow with another question (single, hardened output)\n",
    "\n",
    "# Simple de-duplication guard so each section prints at most once per run\n",
    "_printed_labels = set()\n",
    "\n",
    "def print_once(label: str, content: str, color: str):\n",
    "    if label in _printed_labels:\n",
    "        return\n",
    "    _printed_labels.add(label)\n",
    "    print_colored_block(label, content, color)\n",
    "\n",
    "# Pick your test query (uses global default unless you set a new one here)\n",
    "user_query = default_test_query\n",
    "\n",
    "# 1) Intent/entities\n",
    "intent_entities = parse_nl_query(user_query)\n",
    "if SHOW_INTENT:\n",
    "    print_once('INTENT ENTITIES:', intent_entities[:200] + ('...' if len(intent_entities)>200 else ''), YELLOW)\n",
    "\n",
    "# 2) Optional reasoning\n",
    "if SHOW_REASONING:\n",
    "    try:\n",
    "        r = generate_reasoning(intent_entities)\n",
    "        print_once('REASONING:', (r if (r and r.strip()) else '[no reasoning returned]'), LIGHT_BLUE)\n",
    "    except Exception as e:\n",
    "        print('[WARN] Reasoning step failed:', e)\n",
    "\n",
    "# 3) SQL generation with guard\n",
    "try:\n",
    "    raw_sql = generate_sql(intent_entities)\n",
    "except Exception as e:\n",
    "    raw_sql = ''\n",
    "    print('[ERROR] SQL generation failed:', e)\n",
    "\n",
    "if not raw_sql or not raw_sql.strip():\n",
    "    print_once('RAW SQL (truncated):', '[empty]', WHITE)\n",
    "    sql_to_run = ''\n",
    "    print_once('SANITIZED SQL:', '[empty]', LIGHT_GRAY)\n",
    "else:\n",
    "    print_once('RAW SQL (truncated):', (raw_sql[:500] + '...') if len(raw_sql)>500 else raw_sql, WHITE)\n",
    "    sql_to_run = extract_and_sanitize_sql(raw_sql)\n",
    "    print_once('SANITIZED SQL:', sql_to_run, LIGHT_GRAY)\n",
    "\n",
    "# 4) Execution with safety checks\n",
    "if not NO_EXEC:\n",
    "    sql_final = sql_to_run if 'sql_to_run' in locals() else ''\n",
    "    if not sql_final or not sql_final.strip():\n",
    "        print('[INFO] Skipping execution: SQL is empty.')\n",
    "    elif not re.search(r'\\bselect\\b', sql_final, re.IGNORECASE):\n",
    "        print('[INFO] Skipping execution: No SELECT statement detected.')\n",
    "    else:\n",
    "        try:\n",
    "            execute_sql_query = _safe_import_sql_executor()\n",
    "            rows = execute_sql_query(sql_final)\n",
    "            table_text, _ = _format_table(rows)\n",
    "            print_once('RESULTS:', table_text, GOLD)\n",
    "        except Exception as e:\n",
    "            print('[ERROR] Query failed:', e)\n",
    "else:\n",
    "    print('[INFO] Execution skipped (NO_EXEC=True)')"
   ]
  }
 ],
 "metadata": {
  "kernelspec": {
   "display_name": ".venv (3.13.7)",
   "language": "python",
   "name": "python3"
  },
  "language_info": {
   "codemirror_mode": {
    "name": "ipython",
    "version": 3
   },
   "file_extension": ".py",
   "mimetype": "text/x-python",
   "name": "python",
   "nbconvert_exporter": "python",
   "pygments_lexer": "ipython3",
   "version": "3.13.7"
  }
 },
 "nbformat": 4,
 "nbformat_minor": 5
}
