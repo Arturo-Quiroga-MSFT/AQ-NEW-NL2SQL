{
 "cells": [
  {
   "cell_type": "markdown",
   "id": "c0ad99b9",
   "metadata": {},
   "source": [
    "# NL2SQL Pipeline Demo - Azure AI Agent Service\n",
    "\n",
    "## Overview\n",
    "This notebook demonstrates the **Azure AI Agent Service** implementation of our Natural Language to SQL pipeline.\n",
    "\n",
    "### Key Features\n",
    "- 🤖 **Persistent AI Agents** - Agents remain in Azure AI Foundry (not deleted after use)\n",
    "- 🔐 **Enterprise Authentication** - Uses DefaultAzureCredential (Azure CLI, Managed Identity)\n",
    "- 📊 **Built-in Observability** - Native Azure AI Foundry tracing\n",
    "- ⚡ **Performance** - Agent reuse eliminates creation overhead\n",
    "- 🎯 **2-Agent Architecture** - Intent extraction + SQL generation\n",
    "\n",
    "### Pipeline Flow\n",
    "```\n",
    "Natural Language Query\n",
    "         ↓\n",
    "    [Intent Agent] ← Persistent agent in Azure AI Foundry\n",
    "         ↓\n",
    "    Intent JSON (entities, filters, metrics)\n",
    "         ↓\n",
    "    [SQL Agent] ← Persistent agent with schema context\n",
    "         ↓\n",
    "    Generated T-SQL\n",
    "         ↓\n",
    "    SQL Execution (Azure SQL)\n",
    "         ↓\n",
    "    Formatted Results + Token Usage + Cost\n",
    "```\n",
    "\n",
    "### Comparison with LangChain\n",
    "| Feature | LangChain | Azure AI Agent Service |\n",
    "|---------|-----------|------------------------|\n",
    "| Orchestration | Prompt chains | Agents + Threads |\n",
    "| Authentication | API Key | DefaultAzureCredential |\n",
    "| State | Stateless | Stateful threads |\n",
    "| Persistence | No | Yes (Azure AI Foundry) |\n",
    "| Dependencies | 3 packages | 2 packages |\n",
    "\n",
    "---\n",
    "\n",
    "**Let's explore the pipeline step by step!**"
   ]
  },
  {
   "cell_type": "markdown",
   "id": "c048aa4e",
   "metadata": {},
   "source": [
    "## Step 1: Import Required Libraries\n",
    "\n",
    "We'll import the Azure AI Agent Service SDK and other necessary modules."
   ]
  },
  {
   "cell_type": "code",
   "execution_count": null,
   "id": "357b73ed",
   "metadata": {},
   "outputs": [],
   "source": [
    "import os\n",
    "import sys\n",
    "import json\n",
    "import time\n",
    "from datetime import datetime\n",
    "from dotenv import load_dotenv\n",
    "\n",
    "# Azure AI Agent Service\n",
    "from azure.ai.projects import AIProjectClient\n",
    "from azure.identity import DefaultAzureCredential\n",
    "\n",
    "# Add current directory to path for local imports\n",
    "sys.path.insert(0, os.path.dirname(os.path.abspath('__file__')))\n",
    "\n",
    "print(\"✓ All libraries imported successfully!\")\n",
    "print(f\"  - azure-ai-projects: Available\")\n",
    "print(f\"  - azure-identity: Available\")\n",
    "print(f\"  - Python version: {sys.version.split()[0]}\")"
   ]
  },
  {
   "cell_type": "markdown",
   "id": "4a3dd9ba",
   "metadata": {},
   "source": [
    "## Step 2: Load Environment Configuration\n",
    "\n",
    "Load Azure AI Foundry project configuration and verify settings."
   ]
  },
  {
   "cell_type": "code",
   "execution_count": null,
   "id": "b1c0814d",
   "metadata": {},
   "outputs": [],
   "source": [
    "# Load environment variables\n",
    "load_dotenv()\n",
    "\n",
    "# Azure AI Foundry configuration\n",
    "PROJECT_ENDPOINT = os.getenv(\"PROJECT_ENDPOINT\")\n",
    "MODEL_DEPLOYMENT_NAME = os.getenv(\"MODEL_DEPLOYMENT_NAME\")\n",
    "\n",
    "# Azure SQL configuration\n",
    "AZURE_SQL_SERVER = os.getenv(\"AZURE_SQL_SERVER\")\n",
    "AZURE_SQL_DB = os.getenv(\"AZURE_SQL_DB\")\n",
    "\n",
    "print(\"Environment Configuration:\")\n",
    "print(\"=\" * 60)\n",
    "print(f\"✓ Azure AI Project: {PROJECT_ENDPOINT}\")\n",
    "print(f\"✓ Model Deployment: {MODEL_DEPLOYMENT_NAME}\")\n",
    "print(f\"✓ Azure SQL Server: {AZURE_SQL_SERVER}\")\n",
    "print(f\"✓ Database: {AZURE_SQL_DB}\")\n",
    "print(\"=\" * 60)\n",
    "\n",
    "# Verify required variables\n",
    "if not PROJECT_ENDPOINT or not MODEL_DEPLOYMENT_NAME:\n",
    "    raise ValueError(\"Missing required environment variables. Check .env file!\")"
   ]
  },
  {
   "cell_type": "markdown",
   "id": "3e3f10d1",
   "metadata": {},
   "source": [
    "## Step 3: Initialize Azure AI Project Client\n",
    "\n",
    "Connect to Azure AI Foundry using DefaultAzureCredential (Azure CLI authentication)."
   ]
  },
  {
   "cell_type": "code",
   "execution_count": null,
   "id": "b75c5c62",
   "metadata": {},
   "outputs": [],
   "source": [
    "# Initialize Azure AI Project Client\n",
    "project_client = AIProjectClient(\n",
    "    endpoint=PROJECT_ENDPOINT,\n",
    "    credential=DefaultAzureCredential()\n",
    ")\n",
    "\n",
    "print(\"✓ Azure AI Project Client initialized successfully!\")\n",
    "print(f\"  Endpoint: {PROJECT_ENDPOINT}\")\n",
    "print(f\"  Authentication: DefaultAzureCredential (Azure CLI)\")\n",
    "print(\"\\n📌 Note: This uses your Azure CLI login (az login)\")\n",
    "print(\"   No API keys stored in code!\")"
   ]
  },
  {
   "cell_type": "markdown",
   "id": "1b629dad",
   "metadata": {},
   "source": [
    "## Step 4: Load Database Schema\n",
    "\n",
    "Load the CONTOSO-FI database schema that will be provided to the SQL generation agent."
   ]
  }
 ],
 "metadata": {
  "language_info": {
   "name": "python"
  }
 },
 "nbformat": 4,
 "nbformat_minor": 5
}
